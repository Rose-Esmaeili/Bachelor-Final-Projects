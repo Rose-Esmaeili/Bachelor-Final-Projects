{
 "cells": [
  {
   "cell_type": "code",
   "execution_count": 4,
   "id": "7f955a30",
   "metadata": {
    "scrolled": true
   },
   "outputs": [
    {
     "name": "stdout",
     "output_type": "stream",
     "text": [
      "Number of seconds in 10 years: 315532800\n"
     ]
    }
   ],
   "source": [
    "# Calculate the number of seconds in 10 years, assuming 2 leap years\n",
    "seconds_in_10_years = (365 * 8 + 366 * 2) * 24 * 60 * 60\n",
    "print(\"Number of seconds in 10 years:\", seconds_in_10_years)"
   ]
  },
  {
   "cell_type": "code",
   "execution_count": null,
   "id": "260a778b",
   "metadata": {},
   "outputs": [],
   "source": [
    "# Calculate the area of a circle with a given radius\n",
    "import math\n",
    "\n",
    "radius=float(input(\"Please enter the radius value: \"))\n",
    "area= math.pi*(radius**2)\n",
    "print(area)"
   ]
  },
  {
   "cell_type": "code",
   "execution_count": null,
   "id": "e28d0928",
   "metadata": {},
   "outputs": [],
   "source": [
    "# Compute the maximum of two inputs\n",
    "import builtins\n",
    "\n",
    "input1 = abs(-4)\n",
    "input2 = len(\"abc\")\n",
    "\n",
    "maximum = builtins.max(input1, input2)\n",
    "print(\"The maximum of\", input1, \"and\", input2, \"is\", maximum)"
   ]
  },
  {
   "cell_type": "code",
   "execution_count": 5,
   "id": "6ad4cc5a",
   "metadata": {},
   "outputs": [
    {
     "name": "stdout",
     "output_type": "stream",
     "text": [
      "The Euclidean distance between the points (2,3) and (5,7) is 5.0\n"
     ]
    }
   ],
   "source": [
    "# Calculate the Euclidean distance between two points\n",
    "import math\n",
    "\n",
    "x1, y1 = 2, 3\n",
    "x2, y2 = 5, 7\n",
    "\n",
    "distance = math.sqrt((x2 - x1)**2 + (y2 - y1)**2)\n",
    "print(\"The Euclidean distance between the points ({},{}) and ({},{}) is {}\".format(x1, y1, x2, y2, distance))"
   ]
  },
  {
   "cell_type": "code",
   "execution_count": 6,
   "id": "37b193ab",
   "metadata": {},
   "outputs": [
    {
     "name": "stdout",
     "output_type": "stream",
     "text": [
      "please write the degree in fahrenheit: 2\n",
      "-16.666666666666668\n"
     ]
    }
   ],
   "source": [
    "# Convert Fahrenheit to Celsius\n",
    "fahrenheit=int(input('please write the degree in fahrenheit: '))\n",
    "\n",
    "celsius=(fahrenheit-32)*(5/9)\n",
    "print(celsius)"
   ]
  },
  {
   "cell_type": "code",
   "execution_count": 7,
   "id": "3215c5d8",
   "metadata": {},
   "outputs": [
    {
     "name": "stdout",
     "output_type": "stream",
     "text": [
      "Enter your first and last name: Rose esmi\n",
      "Your name in reverse order is: esmi Rose\n"
     ]
    }
   ],
   "source": [
    "# Print the user's name in reverse order\n",
    "full_name = input(\"Enter your first and last name: \")\n",
    "\n",
    "reversed_name = \" \".join(full_name.split()[::-1])\n",
    "print(\"Your name in reverse order is:\", reversed_name)"
   ]
  },
  {
   "cell_type": "code",
   "execution_count": 10,
   "id": "0c15ae87",
   "metadata": {},
   "outputs": [],
   "source": [
    "# Append \"How are you?\" to my_file1.txt\n",
    "with open(\"my_file1.txt\", \"a\") as f:\n",
    "    f.write(\"How are you?\")"
   ]
  }
 ],
 "metadata": {
  "kernelspec": {
   "display_name": "Python 3 (ipykernel)",
   "language": "python",
   "name": "python3"
  },
  "language_info": {
   "codemirror_mode": {
    "name": "ipython",
    "version": 3
   },
   "file_extension": ".py",
   "mimetype": "text/x-python",
   "name": "python",
   "nbconvert_exporter": "python",
   "pygments_lexer": "ipython3",
   "version": "3.11.1"
  }
 },
 "nbformat": 4,
 "nbformat_minor": 5
}
