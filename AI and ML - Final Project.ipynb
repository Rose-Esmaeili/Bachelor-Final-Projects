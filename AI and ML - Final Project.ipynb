{
 "cells": [
  {
   "cell_type": "markdown",
   "metadata": {
    "id": "lNvRHpAD8_RX"
   },
   "source": [
    "# Introduction\n",
    "\n",
    "The dataset comprises medical information from a hundred rural African-American patients. Given that our target feature represents a continuous variable, we opt to utilize machine learning regression models to predict the Glycosolated Hemoglobin (HbA1c) scores of patients. This predictive model aims to provide valuable insights to healthcare professionals, aiding in the diagnosis of diabetes. By leveraging this information, medical practitioners can assess and ascertain whether an individual is diabetic based on the predicted HbA1c scores.\n",
    "\n",
    "# Detailing Specialized Columns\n",
    "\n",
    "*   chol: Cholesterol. below 200 mg/dL is considered healthy.\n",
    "*   stab.glu: Stabilized Glucose. below 100 mg/dL after fasting for at least 8 hours is considered healthy.\n",
    "*   hdl: High Density Lipoprotein . greater than 60 mg/dL is considered healthy.\n",
    "*   ratio: Cholesterol/HDL Ratio. below 3.5:1 is considered healthy.\n",
    "*   glyhb: Glycosolated Hemoglobin. below 5.7% is considered healthy.\n",
    "*   bp.1s: First Systolic Blood Pressure. below 120 mmHg is considered healthy.\n",
    "*   bp.1d: First Diastolic Blood Pressure. below 80 mmHg is considered healthy.\n",
    "*   bp.2s: Second Systolic Blood Pressure. below 120 mmHg is considered healthy.\n",
    "*   bp.2d: Second Diastolic Blood Pressure. below 80 mmHg is considered\n",
    "*   time.ppn: Postprandial Time when Labs were Drawn"
   ]
  },
  {
   "cell_type": "code",
   "execution_count": 1,
   "metadata": {
    "id": "xbmuLDzXyTWB"
   },
   "outputs": [],
   "source": [
    "import pandas as pd\n",
    "import numpy as np\n",
    "import seaborn as sns\n",
    "import matplotlib.pyplot as plt\n",
    "\n",
    "import sklearn.preprocessing\n",
    "from sklearn import model_selection\n",
    "from sklearn.model_selection import train_test_split\n",
    "\n",
    "from sklearn.compose import ColumnTransformer\n",
    "from sklearn.preprocessing import StandardScaler, OneHotEncoder\n",
    "from sklearn.ensemble import RandomForestRegressor\n",
    "from sklearn.metrics import r2_score\n",
    "from sklearn.metrics import mean_squared_error\n",
    "from sklearn.metrics import mean_absolute_percentage_error\n",
    "from sklearn.model_selection import GridSearchCV\n",
    "from sklearn.svm import SVR\n",
    "from sklearn.impute import SimpleImputer"
   ]
  },
  {
   "cell_type": "markdown",
   "metadata": {
    "id": "ElgYnqaoAa9P"
   },
   "source": [
    "# Data Collection"
   ]
  },
  {
   "cell_type": "markdown",
   "metadata": {
    "id": "y53tWPyfKQp-"
   },
   "source": [
    "The dataset was acquired from Kaggle on the 9th of November 2023. An access link to this dataset has been appended to the references section at the conclusion of the project."
   ]
  },
  {
   "cell_type": "code",
   "execution_count": 2,
   "metadata": {
    "colab": {
     "base_uri": "https://localhost:8080/",
     "height": 206
    },
    "id": "M6hjCtMSAani",
    "outputId": "93e564e3-13ad-467b-f2ce-1cc34e0d9cbb"
   },
   "outputs": [
    {
     "data": {
      "text/html": [
       "\n",
       "  <div id=\"df-2c6ff462-4b7b-426c-a247-3036a2630ba5\" class=\"colab-df-container\">\n",
       "    <div>\n",
       "<style scoped>\n",
       "    .dataframe tbody tr th:only-of-type {\n",
       "        vertical-align: middle;\n",
       "    }\n",
       "\n",
       "    .dataframe tbody tr th {\n",
       "        vertical-align: top;\n",
       "    }\n",
       "\n",
       "    .dataframe thead th {\n",
       "        text-align: right;\n",
       "    }\n",
       "</style>\n",
       "<table border=\"1\" class=\"dataframe\">\n",
       "  <thead>\n",
       "    <tr style=\"text-align: right;\">\n",
       "      <th></th>\n",
       "      <th>id</th>\n",
       "      <th>chol</th>\n",
       "      <th>stab.glu</th>\n",
       "      <th>hdl</th>\n",
       "      <th>ratio</th>\n",
       "      <th>glyhb</th>\n",
       "      <th>location</th>\n",
       "      <th>age</th>\n",
       "      <th>gender</th>\n",
       "      <th>height</th>\n",
       "      <th>weight</th>\n",
       "      <th>frame</th>\n",
       "      <th>bp.1s</th>\n",
       "      <th>bp.1d</th>\n",
       "      <th>bp.2s</th>\n",
       "      <th>bp.2d</th>\n",
       "      <th>waist</th>\n",
       "      <th>hip</th>\n",
       "      <th>time.ppn</th>\n",
       "    </tr>\n",
       "  </thead>\n",
       "  <tbody>\n",
       "    <tr>\n",
       "      <th>0</th>\n",
       "      <td>1000</td>\n",
       "      <td>203.0</td>\n",
       "      <td>82</td>\n",
       "      <td>56.0</td>\n",
       "      <td>3.6</td>\n",
       "      <td>4.31</td>\n",
       "      <td>Buckingham</td>\n",
       "      <td>46</td>\n",
       "      <td>female</td>\n",
       "      <td>62.0</td>\n",
       "      <td>121.0</td>\n",
       "      <td>medium</td>\n",
       "      <td>118.0</td>\n",
       "      <td>59.0</td>\n",
       "      <td>NaN</td>\n",
       "      <td>NaN</td>\n",
       "      <td>29.0</td>\n",
       "      <td>38.0</td>\n",
       "      <td>720.0</td>\n",
       "    </tr>\n",
       "    <tr>\n",
       "      <th>1</th>\n",
       "      <td>1001</td>\n",
       "      <td>165.0</td>\n",
       "      <td>97</td>\n",
       "      <td>24.0</td>\n",
       "      <td>6.9</td>\n",
       "      <td>4.44</td>\n",
       "      <td>Buckingham</td>\n",
       "      <td>29</td>\n",
       "      <td>female</td>\n",
       "      <td>64.0</td>\n",
       "      <td>218.0</td>\n",
       "      <td>large</td>\n",
       "      <td>112.0</td>\n",
       "      <td>68.0</td>\n",
       "      <td>NaN</td>\n",
       "      <td>NaN</td>\n",
       "      <td>46.0</td>\n",
       "      <td>48.0</td>\n",
       "      <td>360.0</td>\n",
       "    </tr>\n",
       "    <tr>\n",
       "      <th>2</th>\n",
       "      <td>1002</td>\n",
       "      <td>228.0</td>\n",
       "      <td>92</td>\n",
       "      <td>37.0</td>\n",
       "      <td>6.2</td>\n",
       "      <td>4.64</td>\n",
       "      <td>Buckingham</td>\n",
       "      <td>58</td>\n",
       "      <td>female</td>\n",
       "      <td>61.0</td>\n",
       "      <td>256.0</td>\n",
       "      <td>large</td>\n",
       "      <td>190.0</td>\n",
       "      <td>92.0</td>\n",
       "      <td>185.0</td>\n",
       "      <td>92.0</td>\n",
       "      <td>49.0</td>\n",
       "      <td>57.0</td>\n",
       "      <td>180.0</td>\n",
       "    </tr>\n",
       "    <tr>\n",
       "      <th>3</th>\n",
       "      <td>1003</td>\n",
       "      <td>78.0</td>\n",
       "      <td>93</td>\n",
       "      <td>12.0</td>\n",
       "      <td>6.5</td>\n",
       "      <td>4.63</td>\n",
       "      <td>Buckingham</td>\n",
       "      <td>67</td>\n",
       "      <td>male</td>\n",
       "      <td>67.0</td>\n",
       "      <td>119.0</td>\n",
       "      <td>large</td>\n",
       "      <td>110.0</td>\n",
       "      <td>50.0</td>\n",
       "      <td>NaN</td>\n",
       "      <td>NaN</td>\n",
       "      <td>33.0</td>\n",
       "      <td>38.0</td>\n",
       "      <td>480.0</td>\n",
       "    </tr>\n",
       "    <tr>\n",
       "      <th>4</th>\n",
       "      <td>1005</td>\n",
       "      <td>249.0</td>\n",
       "      <td>90</td>\n",
       "      <td>28.0</td>\n",
       "      <td>8.9</td>\n",
       "      <td>7.72</td>\n",
       "      <td>Buckingham</td>\n",
       "      <td>64</td>\n",
       "      <td>male</td>\n",
       "      <td>68.0</td>\n",
       "      <td>183.0</td>\n",
       "      <td>medium</td>\n",
       "      <td>138.0</td>\n",
       "      <td>80.0</td>\n",
       "      <td>NaN</td>\n",
       "      <td>NaN</td>\n",
       "      <td>44.0</td>\n",
       "      <td>41.0</td>\n",
       "      <td>300.0</td>\n",
       "    </tr>\n",
       "  </tbody>\n",
       "</table>\n",
       "</div>\n",
       "    <div class=\"colab-df-buttons\">\n",
       "\n",
       "  <div class=\"colab-df-container\">\n",
       "    <button class=\"colab-df-convert\" onclick=\"convertToInteractive('df-2c6ff462-4b7b-426c-a247-3036a2630ba5')\"\n",
       "            title=\"Convert this dataframe to an interactive table.\"\n",
       "            style=\"display:none;\">\n",
       "\n",
       "  <svg xmlns=\"http://www.w3.org/2000/svg\" height=\"24px\" viewBox=\"0 -960 960 960\">\n",
       "    <path d=\"M120-120v-720h720v720H120Zm60-500h600v-160H180v160Zm220 220h160v-160H400v160Zm0 220h160v-160H400v160ZM180-400h160v-160H180v160Zm440 0h160v-160H620v160ZM180-180h160v-160H180v160Zm440 0h160v-160H620v160Z\"/>\n",
       "  </svg>\n",
       "    </button>\n",
       "\n",
       "  <style>\n",
       "    .colab-df-container {\n",
       "      display:flex;\n",
       "      gap: 12px;\n",
       "    }\n",
       "\n",
       "    .colab-df-convert {\n",
       "      background-color: #E8F0FE;\n",
       "      border: none;\n",
       "      border-radius: 50%;\n",
       "      cursor: pointer;\n",
       "      display: none;\n",
       "      fill: #1967D2;\n",
       "      height: 32px;\n",
       "      padding: 0 0 0 0;\n",
       "      width: 32px;\n",
       "    }\n",
       "\n",
       "    .colab-df-convert:hover {\n",
       "      background-color: #E2EBFA;\n",
       "      box-shadow: 0px 1px 2px rgba(60, 64, 67, 0.3), 0px 1px 3px 1px rgba(60, 64, 67, 0.15);\n",
       "      fill: #174EA6;\n",
       "    }\n",
       "\n",
       "    .colab-df-buttons div {\n",
       "      margin-bottom: 4px;\n",
       "    }\n",
       "\n",
       "    [theme=dark] .colab-df-convert {\n",
       "      background-color: #3B4455;\n",
       "      fill: #D2E3FC;\n",
       "    }\n",
       "\n",
       "    [theme=dark] .colab-df-convert:hover {\n",
       "      background-color: #434B5C;\n",
       "      box-shadow: 0px 1px 3px 1px rgba(0, 0, 0, 0.15);\n",
       "      filter: drop-shadow(0px 1px 2px rgba(0, 0, 0, 0.3));\n",
       "      fill: #FFFFFF;\n",
       "    }\n",
       "  </style>\n",
       "\n",
       "    <script>\n",
       "      const buttonEl =\n",
       "        document.querySelector('#df-2c6ff462-4b7b-426c-a247-3036a2630ba5 button.colab-df-convert');\n",
       "      buttonEl.style.display =\n",
       "        google.colab.kernel.accessAllowed ? 'block' : 'none';\n",
       "\n",
       "      async function convertToInteractive(key) {\n",
       "        const element = document.querySelector('#df-2c6ff462-4b7b-426c-a247-3036a2630ba5');\n",
       "        const dataTable =\n",
       "          await google.colab.kernel.invokeFunction('convertToInteractive',\n",
       "                                                    [key], {});\n",
       "        if (!dataTable) return;\n",
       "\n",
       "        const docLinkHtml = 'Like what you see? Visit the ' +\n",
       "          '<a target=\"_blank\" href=https://colab.research.google.com/notebooks/data_table.ipynb>data table notebook</a>'\n",
       "          + ' to learn more about interactive tables.';\n",
       "        element.innerHTML = '';\n",
       "        dataTable['output_type'] = 'display_data';\n",
       "        await google.colab.output.renderOutput(dataTable, element);\n",
       "        const docLink = document.createElement('div');\n",
       "        docLink.innerHTML = docLinkHtml;\n",
       "        element.appendChild(docLink);\n",
       "      }\n",
       "    </script>\n",
       "  </div>\n",
       "\n",
       "\n",
       "<div id=\"df-fa17fea4-81e8-4903-845c-e12f6dcfe131\">\n",
       "  <button class=\"colab-df-quickchart\" onclick=\"quickchart('df-fa17fea4-81e8-4903-845c-e12f6dcfe131')\"\n",
       "            title=\"Suggest charts\"\n",
       "            style=\"display:none;\">\n",
       "\n",
       "<svg xmlns=\"http://www.w3.org/2000/svg\" height=\"24px\"viewBox=\"0 0 24 24\"\n",
       "     width=\"24px\">\n",
       "    <g>\n",
       "        <path d=\"M19 3H5c-1.1 0-2 .9-2 2v14c0 1.1.9 2 2 2h14c1.1 0 2-.9 2-2V5c0-1.1-.9-2-2-2zM9 17H7v-7h2v7zm4 0h-2V7h2v10zm4 0h-2v-4h2v4z\"/>\n",
       "    </g>\n",
       "</svg>\n",
       "  </button>\n",
       "\n",
       "<style>\n",
       "  .colab-df-quickchart {\n",
       "      --bg-color: #E8F0FE;\n",
       "      --fill-color: #1967D2;\n",
       "      --hover-bg-color: #E2EBFA;\n",
       "      --hover-fill-color: #174EA6;\n",
       "      --disabled-fill-color: #AAA;\n",
       "      --disabled-bg-color: #DDD;\n",
       "  }\n",
       "\n",
       "  [theme=dark] .colab-df-quickchart {\n",
       "      --bg-color: #3B4455;\n",
       "      --fill-color: #D2E3FC;\n",
       "      --hover-bg-color: #434B5C;\n",
       "      --hover-fill-color: #FFFFFF;\n",
       "      --disabled-bg-color: #3B4455;\n",
       "      --disabled-fill-color: #666;\n",
       "  }\n",
       "\n",
       "  .colab-df-quickchart {\n",
       "    background-color: var(--bg-color);\n",
       "    border: none;\n",
       "    border-radius: 50%;\n",
       "    cursor: pointer;\n",
       "    display: none;\n",
       "    fill: var(--fill-color);\n",
       "    height: 32px;\n",
       "    padding: 0;\n",
       "    width: 32px;\n",
       "  }\n",
       "\n",
       "  .colab-df-quickchart:hover {\n",
       "    background-color: var(--hover-bg-color);\n",
       "    box-shadow: 0 1px 2px rgba(60, 64, 67, 0.3), 0 1px 3px 1px rgba(60, 64, 67, 0.15);\n",
       "    fill: var(--button-hover-fill-color);\n",
       "  }\n",
       "\n",
       "  .colab-df-quickchart-complete:disabled,\n",
       "  .colab-df-quickchart-complete:disabled:hover {\n",
       "    background-color: var(--disabled-bg-color);\n",
       "    fill: var(--disabled-fill-color);\n",
       "    box-shadow: none;\n",
       "  }\n",
       "\n",
       "  .colab-df-spinner {\n",
       "    border: 2px solid var(--fill-color);\n",
       "    border-color: transparent;\n",
       "    border-bottom-color: var(--fill-color);\n",
       "    animation:\n",
       "      spin 1s steps(1) infinite;\n",
       "  }\n",
       "\n",
       "  @keyframes spin {\n",
       "    0% {\n",
       "      border-color: transparent;\n",
       "      border-bottom-color: var(--fill-color);\n",
       "      border-left-color: var(--fill-color);\n",
       "    }\n",
       "    20% {\n",
       "      border-color: transparent;\n",
       "      border-left-color: var(--fill-color);\n",
       "      border-top-color: var(--fill-color);\n",
       "    }\n",
       "    30% {\n",
       "      border-color: transparent;\n",
       "      border-left-color: var(--fill-color);\n",
       "      border-top-color: var(--fill-color);\n",
       "      border-right-color: var(--fill-color);\n",
       "    }\n",
       "    40% {\n",
       "      border-color: transparent;\n",
       "      border-right-color: var(--fill-color);\n",
       "      border-top-color: var(--fill-color);\n",
       "    }\n",
       "    60% {\n",
       "      border-color: transparent;\n",
       "      border-right-color: var(--fill-color);\n",
       "    }\n",
       "    80% {\n",
       "      border-color: transparent;\n",
       "      border-right-color: var(--fill-color);\n",
       "      border-bottom-color: var(--fill-color);\n",
       "    }\n",
       "    90% {\n",
       "      border-color: transparent;\n",
       "      border-bottom-color: var(--fill-color);\n",
       "    }\n",
       "  }\n",
       "</style>\n",
       "\n",
       "  <script>\n",
       "    async function quickchart(key) {\n",
       "      const quickchartButtonEl =\n",
       "        document.querySelector('#' + key + ' button');\n",
       "      quickchartButtonEl.disabled = true;  // To prevent multiple clicks.\n",
       "      quickchartButtonEl.classList.add('colab-df-spinner');\n",
       "      try {\n",
       "        const charts = await google.colab.kernel.invokeFunction(\n",
       "            'suggestCharts', [key], {});\n",
       "      } catch (error) {\n",
       "        console.error('Error during call to suggestCharts:', error);\n",
       "      }\n",
       "      quickchartButtonEl.classList.remove('colab-df-spinner');\n",
       "      quickchartButtonEl.classList.add('colab-df-quickchart-complete');\n",
       "    }\n",
       "    (() => {\n",
       "      let quickchartButtonEl =\n",
       "        document.querySelector('#df-fa17fea4-81e8-4903-845c-e12f6dcfe131 button');\n",
       "      quickchartButtonEl.style.display =\n",
       "        google.colab.kernel.accessAllowed ? 'block' : 'none';\n",
       "    })();\n",
       "  </script>\n",
       "</div>\n",
       "    </div>\n",
       "  </div>\n"
      ],
      "text/plain": [
       "     id   chol  stab.glu   hdl  ratio  glyhb    location  age  gender  height  \\\n",
       "0  1000  203.0        82  56.0    3.6   4.31  Buckingham   46  female    62.0   \n",
       "1  1001  165.0        97  24.0    6.9   4.44  Buckingham   29  female    64.0   \n",
       "2  1002  228.0        92  37.0    6.2   4.64  Buckingham   58  female    61.0   \n",
       "3  1003   78.0        93  12.0    6.5   4.63  Buckingham   67    male    67.0   \n",
       "4  1005  249.0        90  28.0    8.9   7.72  Buckingham   64    male    68.0   \n",
       "\n",
       "   weight   frame  bp.1s  bp.1d  bp.2s  bp.2d  waist   hip  time.ppn  \n",
       "0   121.0  medium  118.0   59.0    NaN    NaN   29.0  38.0     720.0  \n",
       "1   218.0   large  112.0   68.0    NaN    NaN   46.0  48.0     360.0  \n",
       "2   256.0   large  190.0   92.0  185.0   92.0   49.0  57.0     180.0  \n",
       "3   119.0   large  110.0   50.0    NaN    NaN   33.0  38.0     480.0  \n",
       "4   183.0  medium  138.0   80.0    NaN    NaN   44.0  41.0     300.0  "
      ]
     },
     "execution_count": 2,
     "metadata": {},
     "output_type": "execute_result"
    }
   ],
   "source": [
    "diabet_dataset = pd.read_csv('diabetes.csv')\n",
    "diabet_dataset.head()"
   ]
  },
  {
   "cell_type": "markdown",
   "metadata": {
    "id": "FlajMfSNSxD_"
   },
   "source": [
    "Given the negligible count of missing values in the target column, I opt to eliminate all rows where the target value is absent."
   ]
  },
  {
   "cell_type": "code",
   "execution_count": 3,
   "metadata": {
    "colab": {
     "base_uri": "https://localhost:8080/"
    },
    "id": "raKntI1XRccz",
    "outputId": "b44d8ddc-2cc9-430b-abbc-6fcbf5764c69"
   },
   "outputs": [
    {
     "data": {
      "text/plain": [
       "13"
      ]
     },
     "execution_count": 3,
     "metadata": {},
     "output_type": "execute_result"
    }
   ],
   "source": [
    "target_null_pre =diabet_dataset['glyhb'].isnull().sum()\n",
    "target_null_pre"
   ]
  },
  {
   "cell_type": "code",
   "execution_count": 4,
   "metadata": {
    "id": "WOdt7WsZQ165"
   },
   "outputs": [],
   "source": [
    "diabet_dataset = diabet_dataset.dropna(subset = ['glyhb'])"
   ]
  },
  {
   "cell_type": "markdown",
   "metadata": {
    "id": "PwOqM-kyLAHx"
   },
   "source": [
    "Segmenting the dataset into train and test subsets using *sklearn.model_selection* module."
   ]
  },
  {
   "cell_type": "code",
   "execution_count": 5,
   "metadata": {
    "colab": {
     "base_uri": "https://localhost:8080/"
    },
    "id": "t0y5B2BK80cB",
    "outputId": "ee7115eb-fda3-4bd2-f8a5-d20f9c24fed4"
   },
   "outputs": [
    {
     "name": "stdout",
     "output_type": "stream",
     "text": [
      "Dataset shape:  (390, 19)\n",
      "Train set shape:  (292, 19)\n",
      "Test set shape:  (98, 19)\n"
     ]
    }
   ],
   "source": [
    "dia_train, dia_test = sklearn.model_selection.train_test_split(diabet_dataset)\n",
    "\n",
    "print(\"Dataset shape: \", diabet_dataset.shape)\n",
    "print(\"Train set shape: \", dia_train.shape)\n",
    "print(\"Test set shape: \", dia_test.shape)"
   ]
  },
  {
   "cell_type": "markdown",
   "metadata": {
    "id": "IioTZy_yItay"
   },
   "source": [
    "# Data Exploration"
   ]
  },
  {
   "cell_type": "markdown",
   "metadata": {
    "id": "xYVRKpXkI3Ek"
   },
   "source": [
    "Upon exploring the dataset, it becomes evident that the majority of features, including the target variable, are numerical."
   ]
  },
  {
   "cell_type": "code",
   "execution_count": 6,
   "metadata": {
    "colab": {
     "base_uri": "https://localhost:8080/"
    },
    "id": "hQOSTwA1GaHl",
    "outputId": "f9d2e665-0a49-4ed0-d556-3a76d72bd1aa"
   },
   "outputs": [
    {
     "data": {
      "text/plain": [
       "id            int64\n",
       "chol        float64\n",
       "stab.glu      int64\n",
       "hdl         float64\n",
       "ratio       float64\n",
       "glyhb       float64\n",
       "location     object\n",
       "age           int64\n",
       "gender       object\n",
       "height      float64\n",
       "weight      float64\n",
       "frame        object\n",
       "bp.1s       float64\n",
       "bp.1d       float64\n",
       "bp.2s       float64\n",
       "bp.2d       float64\n",
       "waist       float64\n",
       "hip         float64\n",
       "time.ppn    float64\n",
       "dtype: object"
      ]
     },
     "execution_count": 6,
     "metadata": {},
     "output_type": "execute_result"
    }
   ],
   "source": [
    "dia_train.dtypes"
   ]
  },
  {
   "cell_type": "markdown",
   "metadata": {
    "id": "JK56VDpSULup"
   },
   "source": [
    "Notably, the dataset exhibits minimal outliers across its distributions."
   ]
  },
  {
   "cell_type": "markdown",
   "metadata": {
    "id": "VZrjYvn2eeaf"
   },
   "source": [
    "1. **Chol:**\n",
    "   - **Distribution:** Moderately right-skewed, with a notable concentration beyond the normal range (below 200 mg/dL). Few extreme values exist.\n",
    "   - **Observation:** Nearly half the data surpasses the conventional healthy limit.\n",
    "\n",
    "2. **Stab.glu:**\n",
    "   - **Distribution:** Left-clustered data with a few extreme values on the right. Predominantly within the normal range (below 100 mg/dL).\n",
    "   - **Observation:** Majority of data adheres to the acceptable healthy threshold.\n",
    "\n",
    "3. **Hdl:**\n",
    "   - **Distribution:** Right-skewed with outliers on the left. Median and mode suggest a risk zone (below 60 mg/dL is considered unhealthy).\n",
    "   - **Observation:** Concentration of values raises concerns as it veers towards an unhealthy range.\n",
    "\n",
    "4. **Ratio:**\n",
    "   - **Distribution:** Strongly skewed to the right with outliers on the far left. Median, mode, and mean align with the risky range (below 3.5:1 is considered healthy).\n",
    "   - **Observation:** Majority of values pose potential health risks based on established benchmarks.\n",
    "\n",
    "5. **Glyhb:**\n",
    "   - **Distribution:** Left-tailed graph with the median, mode, and mean aligning within the normal range (below 5.7%).\n",
    "   - **Observation:** Data predominantly falls within the healthy glycemic threshold.\n",
    "\n",
    "6. **Age:**\n",
    "   - **Distribution:** Slightly right-skewed. Mode, median, and mean predominantly fall within the range of 40 to 50 years old.\n",
    "   - **Observation:** Concentration of ages suggests a prevalence within the middle-aged bracket.\n",
    "\n",
    "7. **Height:**\n",
    "   - **Distribution:** Bimodal.\n",
    "   - **Observation:** The data displays two distinct peaks around 65 and 70 inches, indicating the presence of two predominant height groups.\n",
    "\n",
    "8. **Weight:**\n",
    "   - **Distribution:** Moderately right-skewed. The weight data is skewed towards higher values, with the mode observed between 150 - 160 pounds. Most data lies in the lower to mid-range of the weight scale.\n",
    "\n",
    "9. **bp.1s:**\n",
    "   - **Distribution:** The distribution shows a right-skewed pattern with a significant drop in frequency after the mode at 150 mmHg.\n",
    "   - **Observation:** Most data points exceed the healthy blood pressure range (below 120 mmHg), indicating a higher risk zone.\n",
    "\n",
    "10. **bp.1d**:\n",
    "   - **Distribution:** Moderate right-skewed. Although the mode lies centrally, there's a higher frequency before the mode than after.\n",
    "   - **Observation:** The majority of data falls beyond the healthy diastolic blood pressure range (below 80 mmHg), indicating a higher risk zone.\n",
    "\n",
    "11. **bp.2s:**\n",
    "   - **Distribution:** The distribution is right-skewed, centered around 140-150 mmHg with an outlier on the left.\n",
    "   - **Observation:** Most data points lie above the healthy range (below 120 mmHg), suggesting a higher risk zone.\n",
    "\n",
    "12. **bp.2d:**\n",
    "   - **Distribution:** The distribution is right-skewed, with the mode at 100 mmHg and a substantial amount of data below it.\n",
    "   - **Observation:** All data points fall below 120 mmHg, indicating a healthier range.\n",
    "\n"
   ]
  },
  {
   "cell_type": "code",
   "execution_count": 7,
   "metadata": {
    "colab": {
     "base_uri": "https://localhost:8080/",
     "height": 1000
    },
    "id": "nQuoC4a_Tvgi",
    "outputId": "9a53e343-295f-41c8-df11-fe792c9dc5fd"
   },
   "outputs": [
    {
     "data": {
      "image/png": "[encoded data removed]",
      "text/plain": [
       "<Figure size 1200x1200 with 16 Axes>"
      ]
     },
     "metadata": {},
     "output_type": "display_data"
    }
   ],
   "source": [
    "# Selecting only the numerical columns\n",
    "numerical_columns = dia_train.select_dtypes(include=['int64', 'float64'])\n",
    "# Melt the DataFrame to create a long-form version suitable for FacetGrid\n",
    "melted = pd.melt(numerical_columns)\n",
    "# Create FacetGrid with histograms for each numerical column\n",
    "g = sns.FacetGrid(melted, col=\"variable\", col_wrap=4, sharex=False, sharey=False)\n",
    "g.map(plt.hist, \"value\")\n",
    "# Adjust plot labels and appearance\n",
    "g.set_titles(\"{col_name}\")\n",
    "plt.show()"
   ]
  },
  {
   "cell_type": "markdown",
   "metadata": {
    "id": "1TxrTa_bUqjL"
   },
   "source": [
    "The \"Gender\" column showcases moderate imbalance within its data distribution."
   ]
  },
  {
   "cell_type": "code",
   "execution_count": 8,
   "metadata": {
    "colab": {
     "base_uri": "https://localhost:8080/",
     "height": 482
    },
    "id": "768asH4RG8sK",
    "outputId": "7cf278f6-ebe5-4825-98dc-563f6c93a9e2"
   },
   "outputs": [
    {
     "data": {
      "text/plain": [
       "<Axes: >"
      ]
     },
     "execution_count": 8,
     "metadata": {},
     "output_type": "execute_result"
    },
    {
     "data": {
      "image/png": "[encoded data removed]",
      "text/plain": [
       "<Figure size 640x480 with 1 Axes>"
      ]
     },
     "metadata": {},
     "output_type": "display_data"
    }
   ],
   "source": [
    "dia_train['gender'].value_counts().plot(kind=\"bar\")"
   ]
  },
  {
   "cell_type": "markdown",
   "metadata": {
    "id": "Rns3DB5BUhzY"
   },
   "source": [
    "The variations within the \"Location\" column are notably limited."
   ]
  },
  {
   "cell_type": "code",
   "execution_count": 9,
   "metadata": {
    "colab": {
     "base_uri": "https://localhost:8080/"
    },
    "id": "XXQL41mIHXdK",
    "outputId": "938c2000-c78d-4536-ddee-6a4d54b673b8"
   },
   "outputs": [
    {
     "data": {
      "text/plain": [
       "array(['Louisa', 'Buckingham'], dtype=object)"
      ]
     },
     "execution_count": 9,
     "metadata": {},
     "output_type": "execute_result"
    }
   ],
   "source": [
    "dia_train['location'].unique()"
   ]
  },
  {
   "cell_type": "markdown",
   "metadata": {
    "id": "Igs9i_nKUZxD"
   },
   "source": [
    "There exists a notable proportion of missing values specifically in the \"bp.2s\" and \"bp.2d\" columns."
   ]
  },
  {
   "cell_type": "code",
   "execution_count": 10,
   "metadata": {
    "colab": {
     "base_uri": "https://localhost:8080/"
    },
    "id": "FRnMw_VhZu_6",
    "outputId": "f8ea5b8c-e742-450c-dc89-597e2551fb29"
   },
   "outputs": [
    {
     "name": "stdout",
     "output_type": "stream",
     "text": [
      "Number of null values: id            0\n",
      "chol          0\n",
      "stab.glu      0\n",
      "hdl           0\n",
      "ratio         0\n",
      "glyhb         0\n",
      "location      0\n",
      "age           0\n",
      "gender        0\n",
      "height        4\n",
      "weight        1\n",
      "frame         4\n",
      "bp.1s         4\n",
      "bp.1d         4\n",
      "bp.2s       189\n",
      "bp.2d       189\n",
      "waist         1\n",
      "hip           1\n",
      "time.ppn      3\n",
      "dtype: int64\n"
     ]
    }
   ],
   "source": [
    "null_count_train = dia_train.isnull().sum()\n",
    "print(\"Number of null values:\", null_count_train)"
   ]
  },
  {
   "cell_type": "markdown",
   "metadata": {
    "id": "qqTjWnHAIYB-"
   },
   "source": [
    "# Preprocessing Data"
   ]
  },
  {
   "cell_type": "markdown",
   "metadata": {
    "id": "W7k9wbkrZhNE"
   },
   "source": [
    "Seperating the target variable from the remaining features within both the train and test sets.\n",
    "The ID column is dropped since it has no meaningful relationship with other features in this project."
   ]
  },
  {
   "cell_type": "code",
   "execution_count": 11,
   "metadata": {
    "colab": {
     "base_uri": "https://localhost:8080/"
    },
    "id": "AogbNWXXIWhZ",
    "outputId": "27e2bb1d-c6ef-4323-ba3f-146746a9867f"
   },
   "outputs": [
    {
     "name": "stdout",
     "output_type": "stream",
     "text": [
      "(292, 17)\n",
      "(292,)\n",
      "(98, 17)\n",
      "(98,)\n"
     ]
    }
   ],
   "source": [
    "x_train = dia_train.drop(['glyhb', 'id'], axis=1)\n",
    "y_train = dia_train['glyhb']\n",
    "\n",
    "x_test = dia_test.drop(['glyhb', 'id'], axis=1)\n",
    "y_test = dia_test['glyhb']\n",
    "\n",
    "print(x_train.shape)\n",
    "print(y_train.shape)\n",
    "print(x_test.shape)\n",
    "print(y_test.shape)"
   ]
  },
  {
   "cell_type": "markdown",
   "metadata": {
    "id": "zxZlYI0Zrc7E"
   },
   "source": [
    "Utilizing SimpleImputer to handle missing values within the numerical features for both the training and test sets."
   ]
  },
  {
   "cell_type": "code",
   "execution_count": 12,
   "metadata": {
    "id": "dFnV2bH_XNF1"
   },
   "outputs": [],
   "source": [
    "numerical_attr_train = x_train.select_dtypes(include=['int64', 'float64'])\n",
    "\n",
    "imp_mean = SimpleImputer(missing_values=np.nan, strategy='mean')\n",
    "x_train[numerical_attr_train.columns] = imp_mean.fit_transform(numerical_attr_train)\n",
    "x_test[numerical_attr_train.columns] = imp_mean.transform(x_test[numerical_attr_train.columns])"
   ]
  },
  {
   "cell_type": "markdown",
   "metadata": {
    "id": "HgUXVOu7Jg0Q"
   },
   "source": [
    "# Feature Engineering"
   ]
  },
  {
   "cell_type": "markdown",
   "metadata": {
    "id": "4R1Ght5ZNZSP"
   },
   "source": [
    "I start by splitting the dataset into two sets: one for numerical features and the other for categorical features.\n",
    "Next, I standardize the numerical columns using StandardScaler to ensures that the machine learning model perform optimally, converge efficiently, maintain stability, and produce more interpretable and reliable.\n",
    "Categorical columns will be transformed using One Hot Encoder, enabling us to represent categorical data in a format suitable for machine learning models.\n",
    "The choice of StandardScaler is driven by its ability to maintain distribution shape, cater to diverse algorithms, and exhibit robustness against outliers, making it an optimal choice for this dataset."
   ]
  },
  {
   "cell_type": "code",
   "execution_count": 13,
   "metadata": {
    "colab": {
     "base_uri": "https://localhost:8080/"
    },
    "id": "6_ebEUfmqjlp",
    "outputId": "4540364e-a4c9-4818-fd08-fdca5d792188"
   },
   "outputs": [
    {
     "name": "stdout",
     "output_type": "stream",
     "text": [
      "(292, 22)\n",
      "(98, 22)\n"
     ]
    }
   ],
   "source": [
    "numerical_attr = x_train.select_dtypes(include=['int64', 'float64']).columns\n",
    "categorical_attr = x_train.select_dtypes(include=['object']).columns\n",
    "\n",
    "ct = sklearn.compose.ColumnTransformer(\n",
    "    [\n",
    "        ('standard_scaler', sklearn.preprocessing.StandardScaler(), numerical_attr),\n",
    "        ('one_hot_encoder', sklearn.preprocessing.OneHotEncoder(), categorical_attr)\n",
    "    ]\n",
    ")\n",
    "ct.fit(x_train)\n",
    "\n",
    "x_train = ct.transform(x_train)\n",
    "x_test = ct.transform(x_test)\n",
    "\n",
    "print(x_train.shape)\n",
    "print(x_test.shape)"
   ]
  },
  {
   "cell_type": "markdown",
   "metadata": {
    "id": "yZPrXe-5MLgS"
   },
   "source": [
    "Dimension reduction isn't required as the dataset comprises only 23 features, which is relatively manageable. The data maintains balance across various features, obviates the need for additional balancing efforts, especially considering the regression nature of the problem at hand."
   ]
  },
  {
   "cell_type": "markdown",
   "metadata": {
    "id": "btQMFlCdRNTn"
   },
   "source": [
    "# Training Model"
   ]
  },
  {
   "cell_type": "markdown",
   "metadata": {
    "id": "ELzGDqWtVd8u"
   },
   "source": [
    "I conduct hyperparameter tuning for a Random Forest Regressor via Grid Search Cross-Validation. It defines a dictionary, `rf_parameters`, encompassing multiple hyperparameters with corresponding values to explore. Utilizing a Random Forest Regressor, the GridSearchCV configuration is set up to search for the best combination of hyperparameters across the provided grid, employing the 'r2' scoring metric and 4-fold cross-validation. Following model fitting to the training data, it retrieves and displays the best set of parameters discovered along with the corresponding best 'r2' score achieved through cross-validation, aiming to optimize the model's performance.\n",
    "\n",
    "Continuing the approach used for the Random Forest Regressor, I'll replicate the experiment on the SVR model. Evaluating the performance of both models, I'll select the superior one to make predictions on the target variable."
   ]
  },
  {
   "cell_type": "markdown",
   "metadata": {
    "id": "s_QyBmCunvEk"
   },
   "source": [
    "Random Forest Regressor"
   ]
  },
  {
   "cell_type": "code",
   "execution_count": 14,
   "metadata": {
    "colab": {
     "base_uri": "https://localhost:8080/",
     "height": 116
    },
    "id": "5Q1Ccgu1C0_k",
    "outputId": "f816b20c-c4b7-4895-a2e5-19f7ed95cd35"
   },
   "outputs": [
    {
     "data": {
      "text/html": [
       "<style>#sk-container-id-1 {color: black;background-color: white;}#sk-container-id-1 pre{padding: 0;}#sk-container-id-1 div.sk-toggleable {background-color: white;}#sk-container-id-1 label.sk-toggleable__label {cursor: pointer;display: block;width: 100%;margin-bottom: 0;padding: 0.3em;box-sizing: border-box;text-align: center;}#sk-container-id-1 label.sk-toggleable__label-arrow:before {content: \"▸\";float: left;margin-right: 0.25em;color: #696969;}#sk-container-id-1 label.sk-toggleable__label-arrow:hover:before {color: black;}#sk-container-id-1 div.sk-estimator:hover label.sk-toggleable__label-arrow:before {color: black;}#sk-container-id-1 div.sk-toggleable__content {max-height: 0;max-width: 0;overflow: hidden;text-align: left;background-color: #f0f8ff;}#sk-container-id-1 div.sk-toggleable__content pre {margin: 0.2em;color: black;border-radius: 0.25em;background-color: #f0f8ff;}#sk-container-id-1 input.sk-toggleable__control:checked~div.sk-toggleable__content {max-height: 200px;max-width: 100%;overflow: auto;}#sk-container-id-1 input.sk-toggleable__control:checked~label.sk-toggleable__label-arrow:before {content: \"▾\";}#sk-container-id-1 div.sk-estimator input.sk-toggleable__control:checked~label.sk-toggleable__label {background-color: #d4ebff;}#sk-container-id-1 div.sk-label input.sk-toggleable__control:checked~label.sk-toggleable__label {background-color: #d4ebff;}#sk-container-id-1 input.sk-hidden--visually {border: 0;clip: rect(1px 1px 1px 1px);clip: rect(1px, 1px, 1px, 1px);height: 1px;margin: -1px;overflow: hidden;padding: 0;position: absolute;width: 1px;}#sk-container-id-1 div.sk-estimator {font-family: monospace;background-color: #f0f8ff;border: 1px dotted black;border-radius: 0.25em;box-sizing: border-box;margin-bottom: 0.5em;}#sk-container-id-1 div.sk-estimator:hover {background-color: #d4ebff;}#sk-container-id-1 div.sk-parallel-item::after {content: \"\";width: 100%;border-bottom: 1px solid gray;flex-grow: 1;}#sk-container-id-1 div.sk-label:hover label.sk-toggleable__label {background-color: #d4ebff;}#sk-container-id-1 div.sk-serial::before {content: \"\";position: absolute;border-left: 1px solid gray;box-sizing: border-box;top: 0;bottom: 0;left: 50%;z-index: 0;}#sk-container-id-1 div.sk-serial {display: flex;flex-direction: column;align-items: center;background-color: white;padding-right: 0.2em;padding-left: 0.2em;position: relative;}#sk-container-id-1 div.sk-item {position: relative;z-index: 1;}#sk-container-id-1 div.sk-parallel {display: flex;align-items: stretch;justify-content: center;background-color: white;position: relative;}#sk-container-id-1 div.sk-item::before, #sk-container-id-1 div.sk-parallel-item::before {content: \"\";position: absolute;border-left: 1px solid gray;box-sizing: border-box;top: 0;bottom: 0;left: 50%;z-index: -1;}#sk-container-id-1 div.sk-parallel-item {display: flex;flex-direction: column;z-index: 1;position: relative;background-color: white;}#sk-container-id-1 div.sk-parallel-item:first-child::after {align-self: flex-end;width: 50%;}#sk-container-id-1 div.sk-parallel-item:last-child::after {align-self: flex-start;width: 50%;}#sk-container-id-1 div.sk-parallel-item:only-child::after {width: 0;}#sk-container-id-1 div.sk-dashed-wrapped {border: 1px dashed gray;margin: 0 0.4em 0.5em 0.4em;box-sizing: border-box;padding-bottom: 0.4em;background-color: white;}#sk-container-id-1 div.sk-label label {font-family: monospace;font-weight: bold;display: inline-block;line-height: 1.2em;}#sk-container-id-1 div.sk-label-container {text-align: center;}#sk-container-id-1 div.sk-container {/* jupyter's `normalize.less` sets `[hidden] { display: none; }` but bootstrap.min.css set `[hidden] { display: none !important; }` so we also need the `!important` here to be able to override the default hidden behavior on the sphinx rendered scikit-learn.org. See: https://github.com/scikit-learn/scikit-learn/issues/21755 */display: inline-block !important;position: relative;}#sk-container-id-1 div.sk-text-repr-fallback {display: none;}</style><div id=\"sk-container-id-1\" class=\"sk-top-container\"><div class=\"sk-text-repr-fallback\"><pre>GridSearchCV(cv=4, estimator=RandomForestRegressor(),\n",
       "             param_grid={&#x27;max_depth&#x27;: [5, 10, 20, 30],\n",
       "                         &#x27;n_estimators&#x27;: [100, 300, 500, 1000]},\n",
       "             scoring=&#x27;r2&#x27;)</pre><b>In a Jupyter environment, please rerun this cell to show the HTML representation or trust the notebook. <br />On GitHub, the HTML representation is unable to render, please try loading this page with nbviewer.org.</b></div><div class=\"sk-container\" hidden><div class=\"sk-item sk-dashed-wrapped\"><div class=\"sk-label-container\"><div class=\"sk-label sk-toggleable\"><input class=\"sk-toggleable__control sk-hidden--visually\" id=\"sk-estimator-id-1\" type=\"checkbox\" ><label for=\"sk-estimator-id-1\" class=\"sk-toggleable__label sk-toggleable__label-arrow\">GridSearchCV</label><div class=\"sk-toggleable__content\"><pre>GridSearchCV(cv=4, estimator=RandomForestRegressor(),\n",
       "             param_grid={&#x27;max_depth&#x27;: [5, 10, 20, 30],\n",
       "                         &#x27;n_estimators&#x27;: [100, 300, 500, 1000]},\n",
       "             scoring=&#x27;r2&#x27;)</pre></div></div></div><div class=\"sk-parallel\"><div class=\"sk-parallel-item\"><div class=\"sk-item\"><div class=\"sk-label-container\"><div class=\"sk-label sk-toggleable\"><input class=\"sk-toggleable__control sk-hidden--visually\" id=\"sk-estimator-id-2\" type=\"checkbox\" ><label for=\"sk-estimator-id-2\" class=\"sk-toggleable__label sk-toggleable__label-arrow\">estimator: RandomForestRegressor</label><div class=\"sk-toggleable__content\"><pre>RandomForestRegressor()</pre></div></div></div><div class=\"sk-serial\"><div class=\"sk-item\"><div class=\"sk-estimator sk-toggleable\"><input class=\"sk-toggleable__control sk-hidden--visually\" id=\"sk-estimator-id-3\" type=\"checkbox\" ><label for=\"sk-estimator-id-3\" class=\"sk-toggleable__label sk-toggleable__label-arrow\">RandomForestRegressor</label><div class=\"sk-toggleable__content\"><pre>RandomForestRegressor()</pre></div></div></div></div></div></div></div></div></div></div>"
      ],
      "text/plain": [
       "GridSearchCV(cv=4, estimator=RandomForestRegressor(),\n",
       "             param_grid={'max_depth': [5, 10, 20, 30],\n",
       "                         'n_estimators': [100, 300, 500, 1000]},\n",
       "             scoring='r2')"
      ]
     },
     "execution_count": 14,
     "metadata": {},
     "output_type": "execute_result"
    }
   ],
   "source": [
    "rf_parameters = {\n",
    "    'n_estimators': [100, 300, 500, 1000],\n",
    "    'max_depth': [5, 10, 20, 30],\n",
    "}\n",
    "regr = RandomForestRegressor()\n",
    "\n",
    "rf_clf = GridSearchCV(regr, rf_parameters, scoring='r2', cv=4)\n",
    "rf_clf.fit(x_train, y_train)"
   ]
  },
  {
   "cell_type": "code",
   "execution_count": 15,
   "metadata": {
    "colab": {
     "base_uri": "https://localhost:8080/"
    },
    "id": "jZqRLHVdZZw0",
    "outputId": "ab8a5700-aa1f-402b-d754-37ea0890131a"
   },
   "outputs": [
    {
     "name": "stdout",
     "output_type": "stream",
     "text": [
      "Best Parameters: {'max_depth': 10, 'n_estimators': 300}\n",
      "Best Score: 0.5409736117014151\n"
     ]
    }
   ],
   "source": [
    "best_params = rf_clf.best_params_\n",
    "best_score = rf_clf.best_score_\n",
    "\n",
    "print(\"Best Parameters:\", best_params)\n",
    "print(\"Best Score:\", best_score)"
   ]
  },
  {
   "cell_type": "markdown",
   "metadata": {
    "id": "X90yMkeQnynB"
   },
   "source": [
    "Support Vector Regressor"
   ]
  },
  {
   "cell_type": "code",
   "execution_count": 16,
   "metadata": {
    "colab": {
     "base_uri": "https://localhost:8080/",
     "height": 116
    },
    "id": "hm1hljYJn2vK",
    "outputId": "d9053d9f-e648-4ff7-b279-5e14d343f539"
   },
   "outputs": [
    {
     "data": {
      "text/html": [
       "<style>#sk-container-id-2 {color: black;background-color: white;}#sk-container-id-2 pre{padding: 0;}#sk-container-id-2 div.sk-toggleable {background-color: white;}#sk-container-id-2 label.sk-toggleable__label {cursor: pointer;display: block;width: 100%;margin-bottom: 0;padding: 0.3em;box-sizing: border-box;text-align: center;}#sk-container-id-2 label.sk-toggleable__label-arrow:before {content: \"▸\";float: left;margin-right: 0.25em;color: #696969;}#sk-container-id-2 label.sk-toggleable__label-arrow:hover:before {color: black;}#sk-container-id-2 div.sk-estimator:hover label.sk-toggleable__label-arrow:before {color: black;}#sk-container-id-2 div.sk-toggleable__content {max-height: 0;max-width: 0;overflow: hidden;text-align: left;background-color: #f0f8ff;}#sk-container-id-2 div.sk-toggleable__content pre {margin: 0.2em;color: black;border-radius: 0.25em;background-color: #f0f8ff;}#sk-container-id-2 input.sk-toggleable__control:checked~div.sk-toggleable__content {max-height: 200px;max-width: 100%;overflow: auto;}#sk-container-id-2 input.sk-toggleable__control:checked~label.sk-toggleable__label-arrow:before {content: \"▾\";}#sk-container-id-2 div.sk-estimator input.sk-toggleable__control:checked~label.sk-toggleable__label {background-color: #d4ebff;}#sk-container-id-2 div.sk-label input.sk-toggleable__control:checked~label.sk-toggleable__label {background-color: #d4ebff;}#sk-container-id-2 input.sk-hidden--visually {border: 0;clip: rect(1px 1px 1px 1px);clip: rect(1px, 1px, 1px, 1px);height: 1px;margin: -1px;overflow: hidden;padding: 0;position: absolute;width: 1px;}#sk-container-id-2 div.sk-estimator {font-family: monospace;background-color: #f0f8ff;border: 1px dotted black;border-radius: 0.25em;box-sizing: border-box;margin-bottom: 0.5em;}#sk-container-id-2 div.sk-estimator:hover {background-color: #d4ebff;}#sk-container-id-2 div.sk-parallel-item::after {content: \"\";width: 100%;border-bottom: 1px solid gray;flex-grow: 1;}#sk-container-id-2 div.sk-label:hover label.sk-toggleable__label {background-color: #d4ebff;}#sk-container-id-2 div.sk-serial::before {content: \"\";position: absolute;border-left: 1px solid gray;box-sizing: border-box;top: 0;bottom: 0;left: 50%;z-index: 0;}#sk-container-id-2 div.sk-serial {display: flex;flex-direction: column;align-items: center;background-color: white;padding-right: 0.2em;padding-left: 0.2em;position: relative;}#sk-container-id-2 div.sk-item {position: relative;z-index: 1;}#sk-container-id-2 div.sk-parallel {display: flex;align-items: stretch;justify-content: center;background-color: white;position: relative;}#sk-container-id-2 div.sk-item::before, #sk-container-id-2 div.sk-parallel-item::before {content: \"\";position: absolute;border-left: 1px solid gray;box-sizing: border-box;top: 0;bottom: 0;left: 50%;z-index: -1;}#sk-container-id-2 div.sk-parallel-item {display: flex;flex-direction: column;z-index: 1;position: relative;background-color: white;}#sk-container-id-2 div.sk-parallel-item:first-child::after {align-self: flex-end;width: 50%;}#sk-container-id-2 div.sk-parallel-item:last-child::after {align-self: flex-start;width: 50%;}#sk-container-id-2 div.sk-parallel-item:only-child::after {width: 0;}#sk-container-id-2 div.sk-dashed-wrapped {border: 1px dashed gray;margin: 0 0.4em 0.5em 0.4em;box-sizing: border-box;padding-bottom: 0.4em;background-color: white;}#sk-container-id-2 div.sk-label label {font-family: monospace;font-weight: bold;display: inline-block;line-height: 1.2em;}#sk-container-id-2 div.sk-label-container {text-align: center;}#sk-container-id-2 div.sk-container {/* jupyter's `normalize.less` sets `[hidden] { display: none; }` but bootstrap.min.css set `[hidden] { display: none !important; }` so we also need the `!important` here to be able to override the default hidden behavior on the sphinx rendered scikit-learn.org. See: https://github.com/scikit-learn/scikit-learn/issues/21755 */display: inline-block !important;position: relative;}#sk-container-id-2 div.sk-text-repr-fallback {display: none;}</style><div id=\"sk-container-id-2\" class=\"sk-top-container\"><div class=\"sk-text-repr-fallback\"><pre>GridSearchCV(cv=4, estimator=SVR(),\n",
       "             param_grid={&#x27;C&#x27;: [0.1, 1, 10, 100],\n",
       "                         &#x27;kernel&#x27;: [&#x27;rbf&#x27;, &#x27;poly&#x27;, &#x27;sigmoid&#x27;]},\n",
       "             scoring=&#x27;r2&#x27;)</pre><b>In a Jupyter environment, please rerun this cell to show the HTML representation or trust the notebook. <br />On GitHub, the HTML representation is unable to render, please try loading this page with nbviewer.org.</b></div><div class=\"sk-container\" hidden><div class=\"sk-item sk-dashed-wrapped\"><div class=\"sk-label-container\"><div class=\"sk-label sk-toggleable\"><input class=\"sk-toggleable__control sk-hidden--visually\" id=\"sk-estimator-id-4\" type=\"checkbox\" ><label for=\"sk-estimator-id-4\" class=\"sk-toggleable__label sk-toggleable__label-arrow\">GridSearchCV</label><div class=\"sk-toggleable__content\"><pre>GridSearchCV(cv=4, estimator=SVR(),\n",
       "             param_grid={&#x27;C&#x27;: [0.1, 1, 10, 100],\n",
       "                         &#x27;kernel&#x27;: [&#x27;rbf&#x27;, &#x27;poly&#x27;, &#x27;sigmoid&#x27;]},\n",
       "             scoring=&#x27;r2&#x27;)</pre></div></div></div><div class=\"sk-parallel\"><div class=\"sk-parallel-item\"><div class=\"sk-item\"><div class=\"sk-label-container\"><div class=\"sk-label sk-toggleable\"><input class=\"sk-toggleable__control sk-hidden--visually\" id=\"sk-estimator-id-5\" type=\"checkbox\" ><label for=\"sk-estimator-id-5\" class=\"sk-toggleable__label sk-toggleable__label-arrow\">estimator: SVR</label><div class=\"sk-toggleable__content\"><pre>SVR()</pre></div></div></div><div class=\"sk-serial\"><div class=\"sk-item\"><div class=\"sk-estimator sk-toggleable\"><input class=\"sk-toggleable__control sk-hidden--visually\" id=\"sk-estimator-id-6\" type=\"checkbox\" ><label for=\"sk-estimator-id-6\" class=\"sk-toggleable__label sk-toggleable__label-arrow\">SVR</label><div class=\"sk-toggleable__content\"><pre>SVR()</pre></div></div></div></div></div></div></div></div></div></div>"
      ],
      "text/plain": [
       "GridSearchCV(cv=4, estimator=SVR(),\n",
       "             param_grid={'C': [0.1, 1, 10, 100],\n",
       "                         'kernel': ['rbf', 'poly', 'sigmoid']},\n",
       "             scoring='r2')"
      ]
     },
     "execution_count": 16,
     "metadata": {},
     "output_type": "execute_result"
    }
   ],
   "source": [
    "svr_parameters = {\n",
    "    'C': [0.1, 1, 10, 100],\n",
    "    'kernel': ['rbf', 'poly', 'sigmoid']\n",
    "}\n",
    "svr = SVR(kernel = 'rbf')\n",
    "\n",
    "svr_clf = GridSearchCV(svr, svr_parameters, scoring='r2', cv=4)\n",
    "svr_clf.fit(x_train, y_train)"
   ]
  },
  {
   "cell_type": "code",
   "execution_count": 17,
   "metadata": {
    "colab": {
     "base_uri": "https://localhost:8080/"
    },
    "id": "IlJSLIGtqdos",
    "outputId": "a64b9c83-debe-4ac4-dc7e-1f96f67fcea7"
   },
   "outputs": [
    {
     "name": "stdout",
     "output_type": "stream",
     "text": [
      "Best Parameters: {'C': 10, 'kernel': 'rbf'}\n",
      "Best Score: 0.46960788704167744\n"
     ]
    }
   ],
   "source": [
    "svr_best_params = svr_clf.best_params_\n",
    "svr_best_score = svr_clf.best_score_\n",
    "\n",
    "print(\"Best Parameters:\", svr_best_params)\n",
    "print(\"Best Score:\", svr_best_score)"
   ]
  },
  {
   "cell_type": "markdown",
   "metadata": {
    "id": "3cN6YGjVOfMs"
   },
   "source": [
    "# Testing"
   ]
  },
  {
   "cell_type": "markdown",
   "metadata": {
    "id": "PkoSADF7aGjg"
   },
   "source": [
    " Using the superior model (Random Forest), I employ three distinct evaluation metrics to rigorously assess the accuracy and robustness of these predictions. This holistic evaluation process aims to ensure a comprehensive understanding of the model's performance across various measurement criteria.\n",
    "\n",
    " However, given the notably low evaluation scores (R-squared, Mean Squared Error, Mean Absolute Percentage Error), it suggests that accurately predicting the target using the existing data and features might not be entirely feasible."
   ]
  },
  {
   "cell_type": "code",
   "execution_count": 18,
   "metadata": {
    "id": "63CrOG85rMIx"
   },
   "outputs": [],
   "source": [
    "rf_pred = rf_clf.predict(x_test)"
   ]
  },
  {
   "cell_type": "code",
   "execution_count": 19,
   "metadata": {
    "colab": {
     "base_uri": "https://localhost:8080/"
    },
    "id": "6i9RTNipsv70",
    "outputId": "33517232-8a6c-4652-b2f4-c426250214b2"
   },
   "outputs": [
    {
     "name": "stdout",
     "output_type": "stream",
     "text": [
      "0.4001784578753229\n",
      "1.2718692853655797\n",
      "0.17313257611111935\n"
     ]
    }
   ],
   "source": [
    "rf_r2   = r2_score(y_test, rf_pred)\n",
    "print(rf_r2)\n",
    "\n",
    "rf_mse = mean_squared_error(y_test, rf_pred, squared=False)\n",
    "print(rf_mse)\n",
    "\n",
    "rf_mape = mean_absolute_percentage_error(y_test, rf_pred)\n",
    "print(rf_mape)"
   ]
  },
  {
   "cell_type": "markdown",
   "metadata": {
    "id": "-jEnkRxDt97S"
   },
   "source": [
    "# Conclusion"
   ]
  },
  {
   "cell_type": "markdown",
   "metadata": {
    "id": "fzHqwbgjuCJh"
   },
   "source": [
    "After extensive exploration into predictive analytics for forecasting glycated hemoglobin (glyhb) levels—a crucial diabetes management marker—this project undertook rigorous data preprocessing, employing advanced imputation techniques to handle missing values. The dataset underwent meticulous preparation before model development, utilizing machine learning algorithms like Random Forest Regressor and Support Vector Regressor (SVR). Despite exhaustive hyperparameter tuning and Grid Search Cross-Validation, the models' performance, as reflected in notably low evaluation scores (R-squared, Mean Squared Error, Mean Absolute Percentage Error), suggests limitations in accurately predicting glyhb levels using the available data and features.\n",
    "\n",
    "The project's conclusion emphasizes that, despite efforts to optimize model performance and selection, the observed low evaluation metrics indicate the challenges in achieving precise glyhb predictions. This outcome underscores the complexities within diabetes management and suggests a need for further exploration and possibly additional data sources or features to enhance predictive capabilities. While acknowledging the limitations, this study highlights the potential of predictive analytics in shedding light on diabetes complexities, offering insights to guide disease management strategies, albeit with an understanding of the inherent challenges in accurate prediction using the current dataset."
   ]
  },
  {
   "cell_type": "markdown",
   "metadata": {
    "id": "6O1fVWC7sdjE"
   },
   "source": [
    "# References"
   ]
  },
  {
   "cell_type": "markdown",
   "metadata": {
    "id": "11XH6DCyooM3"
   },
   "source": [
    "1. WebMD. (n.d.). How Sugar Affects Diabetes. Retrieved from [WebMD website](https://www.webmd.com/diabetes/how-sugar-affects-diabetes) (Accessed: 09.12.2023).\n",
    "\n",
    "2. WebMD. (n.d.). HDL Cholesterol: The \"Good\" Cholesterol. Retrieved from [WebMD website](https://www.webmd.com/cholesterol-management/hdl-cholesterol-the-good-cholesterol)(Accessed: 09.12.2023).\n",
    "\n",
    "3. University of Rochester Medical Center. (n.d.). HDL Cholesterol Ratio. Retrieved from [University of Rochester Medical Center website](https://www.urmc.rochester.edu/encyclopedia/content.aspx?ContentTypeID=167&ContentID=lipid_panel_hdl_ratio)(Accessed: 09.12.2023).\n",
    "\n",
    "4. Centers for Disease Control and Prevention. (n.d.). A1C Test for Diabetes. Retrieved from [CDC website](https://www.cdc.gov/diabetes/managing/managing-blood-sugar/a1c.html)(Accessed: 09.12.2023).\n",
    "\n",
    "5. Centers for Disease Control and Prevention. (n.d.). About High Blood Pressure. Retrieved from [CDC website](https://www.cdc.gov/bloodpressure/about.htm)(Accessed: 09.12.2023).\n",
    "\n",
    "6. Biostatistics: Tools for Data Analysis. (n.d.). Diabetes Dataset. Retrieved from [HBI Biostatistics website](https://hbiostat.org/data/repo/cdiabetes)(Accessed: 30.11.2023).\n",
    "\n",
    "7. Kaggle. (n.d.). Diabetes Dataset. Retrieved from [Kaggle website](https://www.kaggle.com/datasets/imtkaggleteam/diabetes)(Accessed: 30.11.2023)."
   ]
  },
  {
   "attachments": {
    "ML.png": {
     "image/png": "[encoded data removed]"
    }
   },
   "cell_type": "markdown",
   "metadata": {},
   "source": [
    "![ML.png](attachment:ML.png)"
   ]
  }
 ],
 "metadata": {
  "colab": {
   "provenance": []
  },
  "kernelspec": {
   "display_name": "Python 3 (ipykernel)",
   "language": "python",
   "name": "python3"
  },
  "language_info": {
   "codemirror_mode": {
    "name": "ipython",
    "version": 3
   },
   "file_extension": ".py",
   "mimetype": "text/x-python",
   "name": "python",
   "nbconvert_exporter": "python",
   "pygments_lexer": "ipython3",
   "version": "3.11.1"
  }
 },
 "nbformat": 4,
 "nbformat_minor": 1
}
