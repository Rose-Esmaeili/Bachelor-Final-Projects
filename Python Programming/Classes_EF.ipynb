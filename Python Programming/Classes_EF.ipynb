{
 "cells": [
  {
   "cell_type": "markdown",
   "id": "isolated-catholic",
   "metadata": {},
   "source": [
    "# Classes"
   ]
  },
  {
   "cell_type": "markdown",
   "id": "valuable-coupon",
   "metadata": {},
   "source": [
    "## Course Class\n",
    "Define a course class with the followings:\n",
    "- A `code` attribute.\n",
    "- A `name` attribute.\n",
    "- A `credits` attribute.\n",
    "- A `semester` attribute.\n",
    "- An `instructor` attribute.\n",
    "- An `__init__` method.\n",
    "- A `__str__` method."
   ]
  },
  {
   "cell_type": "code",
   "execution_count": 16,
   "id": "e6eee1fd",
   "metadata": {},
   "outputs": [],
   "source": [
    "class Course:\n",
    "    def __init__(self, name, credits, semester, instructor):\n",
    "        self.name = name\n",
    "        self.credits = credits\n",
    "        self.semester = semester\n",
    "        self.instructor = instructor\n",
    "        self.students=[]\n",
    "        self.capacity= 10\n",
    "        self.code= self.name.upper()+ self.semester\n",
    "        \n",
    "    def __str__(self):\n",
    "        return f\"{self.code} - {self.name} ({self.credits} credits), {self.semester} semester, taught by {self.instructor}, {self.students}\"\n",
    "    \n",
    "    def add_student(self, student):\n",
    "        if len(self.students) <= self.capacity:\n",
    "            self.students.append(student)\n",
    "            print('New Student added') \n",
    "        else:\n",
    "            print('sorry we are full')"
   ]
  },
  {
   "cell_type": "code",
   "execution_count": 18,
   "id": "61c9fea7",
   "metadata": {},
   "outputs": [
    {
     "name": "stdout",
     "output_type": "stream",
     "text": [
      "New Student added\n",
      "PYTHON2023 - Python (5 credits), 2023 semester, taught by Monavari, ['Rose Esmaeili']\n"
     ]
    }
   ],
   "source": [
    "\n",
    "    python_course= Course(\"Python\", 5, \"2023\",\"Monavari\")\n",
    "    python_course.add_student(\"Rose Esmaeili\")\n",
    "    print(python_course)"
   ]
  },
  {
   "cell_type": "markdown",
   "id": "3de02a81",
   "metadata": {},
   "source": [
    "## Student Class\n",
    "Define a student class with the followings:\n",
    "- A `first_name` attribute.\n",
    "- A `last_name` attribute.\n",
    "- An `number` attribute.\n",
    "- A `courses` attribute that stores a dictionary of passed **course objects** and their mark.\n",
    "- An `__init__` method.\n",
    "- A `__str__` method.\n",
    "- A `get_gpa` method.\n",
    "- A `set_course_mark` method."
   ]
  },
  {
   "cell_type": "code",
   "execution_count": 19,
   "id": "according-purse",
   "metadata": {},
   "outputs": [],
   "source": [
    "class Student:\n",
    "    def __init__(self, first_name, last_name, number):\n",
    "        self.first_name= first_name\n",
    "        self.last_name= last_name\n",
    "        self.number= number\n",
    "        self.courses= {}\n",
    "    \n",
    "    def __str__(self):\n",
    "        return f\"{self.first_name}, {self.last_name}, {self.number}, {self.courses}\"\n",
    "    \n",
    "    def set_course_mark(self, course, mark):\n",
    "        self.courses[course]=mark\n",
    "        \n",
    "    def get_gpa(self):\n",
    "        total_credits = 0\n",
    "        total_grade_points = 0\n",
    "        for course, mark in self.course.items():\n",
    "            credits += course.credits\n",
    "            total_credits += credits\n",
    "            grade_points= self.mark_to_grade_point(mark)\n",
    "            total_grade_points += credits* grade_points\n",
    "        if total_credits == 0:\n",
    "            return 0\n",
    "        else:\n",
    "            return total_grade_points / total_credits\n",
    "            \n",
    "    def mark_to_grade_point(self, mark):\n",
    "        if mark >= 90:\n",
    "            return 4.0\n",
    "        elif mark >= 85:\n",
    "            return 3.7\n",
    "        elif mark >= 80:\n",
    "            return 3.3\n",
    "        elif mark >= 75:\n",
    "            return 3.0\n",
    "        elif mark >= 70:\n",
    "            return 2.7\n",
    "        elif mark >= 65:\n",
    "            return 2.3\n",
    "        elif mark >= 60:\n",
    "            return 2.0\n",
    "        elif mark >= 55:\n",
    "            return 1.7\n",
    "        elif mark >= 50:\n",
    "            return 1.0\n",
    "        else:\n",
    "            return 0.0\n"
   ]
  },
  {
   "cell_type": "markdown",
   "id": "palestinian-expert",
   "metadata": {},
   "source": [
    "## University Class\n",
    "Define a university class with the followings:\n",
    "- A `name` attribute.\n",
    "- A `students` attribute that stores a list of **student objects**.\n",
    "- An `__init__` method.\n",
    "- A `__str__` method.\n",
    "- A `register_student` method.\n",
    "- A `graduate_student` method."
   ]
  },
  {
   "cell_type": "code",
   "execution_count": 2,
   "id": "going-custom",
   "metadata": {},
   "outputs": [],
   "source": [
    "class university:\n",
    "    \n",
    "    def __init__(self, name):\n",
    "        self.name= name\n",
    "        self.students= []\n",
    "    \n",
    "    def __str__(self):\n",
    "        return f\"{self.name} University\"\n",
    "    \n",
    "    def register_student(self, student):\n",
    "        self.students.append(student)\n",
    "        \n",
    "    def graduate_student(GS):\n",
    "        if student in self.students:\n",
    "            GS.append(student)\n",
    "            self.students.remove(student)"
   ]
  }
 ],
 "metadata": {
  "kernelspec": {
   "display_name": "Python 3 (ipykernel)",
   "language": "python",
   "name": "python3"
  },
  "language_info": {
   "codemirror_mode": {
    "name": "ipython",
    "version": 3
   },
   "file_extension": ".py",
   "mimetype": "text/x-python",
   "name": "python",
   "nbconvert_exporter": "python",
   "pygments_lexer": "ipython3",
   "version": "3.11.1"
  }
 },
 "nbformat": 4,
 "nbformat_minor": 5
}
