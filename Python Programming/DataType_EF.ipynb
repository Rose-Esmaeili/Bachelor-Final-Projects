{
 "cells": [
  {
   "cell_type": "code",
   "execution_count": 1,
   "id": "7b66b5c2",
   "metadata": {},
   "outputs": [
    {
     "name": "stdout",
     "output_type": "stream",
     "text": [
      "Please enter your word: hello\n",
      "hll\n"
     ]
    }
   ],
   "source": [
    "# Remove vowels from a string\n",
    "string=input('Please enter your word: ')\n",
    "vowels = \"aeiou\"\n",
    "\n",
    "new_string = \"\".join([char for char in string.lower() if char not in vowels])\n",
    "print(new_string)"
   ]
  },
  {
   "cell_type": "code",
   "execution_count": null,
   "id": "d9c0203c",
   "metadata": {},
   "outputs": [],
   "source": [
    "# Reverse the order of words in a string\n",
    "string = \"hello how are you\"\n",
    "\n",
    "words = string.split()\n",
    "reversed_words = \" \".join(words[::-1])\n",
    "print(reversed_words)"
   ]
  },
  {
   "cell_type": "code",
   "execution_count": null,
   "id": "a264d2ed",
   "metadata": {},
   "outputs": [],
   "source": [
    "# Count common elements in two lists\n",
    "list1 = [1, 2, 3]\n",
    "list2 = [5, 1, 3]\n",
    "\n",
    "common_elements = len(set(list1).intersection(list2))\n",
    "print(\"Number of common elements:\", common_elements)"
   ]
  },
  {
   "cell_type": "code",
   "execution_count": null,
   "id": "7d61e595",
   "metadata": {},
   "outputs": [],
   "source": [
    "#Print sorted unique words\n",
    "phrase=input('please write your phrase: ').split()\n",
    "print(\" \".join(sorted(set(phrase))))\n",
    "\n",
    "#Set items are unordered, unchangeable, and do not allow duplicate values.\n",
    "#Sort function for sorting the elements\n",
    "#Join function for keeping elements into a string"
   ]
  },
  {
   "cell_type": "code",
   "execution_count": null,
   "id": "badcac74",
   "metadata": {},
   "outputs": [],
   "source": [
    "# Convert a list of integers to an integer\n",
    "list_of_integers = [11, 2, 54]\n",
    "\n",
    "integer = int(\"\".join(map(str, list_of_integers)))\n",
    "print(\"The integer is:\", integer)"
   ]
  }
 ],
 "metadata": {
  "kernelspec": {
   "display_name": "Python 3 (ipykernel)",
   "language": "python",
   "name": "python3"
  },
  "language_info": {
   "codemirror_mode": {
    "name": "ipython",
    "version": 3
   },
   "file_extension": ".py",
   "mimetype": "text/x-python",
   "name": "python",
   "nbconvert_exporter": "python",
   "pygments_lexer": "ipython3",
   "version": "3.11.1"
  }
 },
 "nbformat": 4,
 "nbformat_minor": 5
}
