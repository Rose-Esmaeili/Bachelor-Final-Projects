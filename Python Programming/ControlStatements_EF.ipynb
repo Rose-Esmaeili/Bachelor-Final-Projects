{
 "cells": [
  {
   "cell_type": "code",
   "execution_count": 36,
   "id": "ab33c337",
   "metadata": {},
   "outputs": [
    {
     "name": "stdout",
     "output_type": "stream",
     "text": [
      "please enter your first number: 10\n",
      "please enter your second number: 2\n",
      "10 is dividable by 2\n"
     ]
    }
   ],
   "source": [
    "#Check if the first number is divisible by the second\n",
    "num1=int(input('please enter your first number: '))\n",
    "num2=int(input('please enter your second number: '))\n",
    "\n",
    "if num1%num2==0:\n",
    "    print(f\"{num1} is dividable by {num2}\")\n",
    "else:\n",
    "    print(f\"{num1} is dividable by {num2}\")"
   ]
  },
  {
   "cell_type": "code",
   "execution_count": 38,
   "id": "4d2349ff",
   "metadata": {},
   "outputs": [
    {
     "name": "stdout",
     "output_type": "stream",
     "text": [
      "Please enter website address: www.google\n",
      "www.google does not ends with .com\n"
     ]
    }
   ],
   "source": [
    "# Check if a website address ends with .com\n",
    "website = input('Please enter website address: ')\n",
    "\n",
    "if website.endswith(\".com\"):\n",
    "    print(f\"{website} ends with .com\")\n",
    "else:\n",
    "    print(f\"{website} does not ends with .com\")"
   ]
  },
  {
   "cell_type": "code",
   "execution_count": 11,
   "id": "dc402c21",
   "metadata": {},
   "outputs": [
    {
     "name": "stdout",
     "output_type": "stream",
     "text": [
      "['hello', 'bye']\n"
     ]
    }
   ],
   "source": [
    "#Create a list of only string values from the main list\n",
    "lst=[1, 'hello', 4.3, True, 'bye']\n",
    "\n",
    "string_lst=[elem for elem in lst if isinstance(elem, str)]\n",
    "print(string_lst)"
   ]
  },
  {
   "cell_type": "code",
   "execution_count": null,
   "id": "21b8ec4c",
   "metadata": {},
   "outputs": [],
   "source": [
    "# Guess the number game\n",
    "fixedNum=10\n",
    "\n",
    "while True:\n",
    "    varNum=int(input('please enter your number: '))\n",
    "    if fixedNum>varNum:\n",
    "        print(varNum, ' is  too small')\n",
    "    elif fixedNum<varNum:\n",
    "        print(varNum, ' is  too big')\n",
    "    else:\n",
    "        print('Excellent! That is right.')\n",
    "        break"
   ]
  },
  {
   "cell_type": "code",
   "execution_count": 20,
   "id": "959df772",
   "metadata": {},
   "outputs": [
    {
     "data": {
      "text/plain": [
       "'Sum of even numbers in the list is: 12'"
      ]
     },
     "execution_count": 20,
     "metadata": {},
     "output_type": "execute_result"
    }
   ],
   "source": [
    "# Sum even numbers in a list\n",
    "numbers = [1, 2, 3, 4, 5, 6]\n",
    "\n",
    "even_sum = sum([num for num in numbers if num % 2 == 0])\n",
    "print(f\"Sum of even numbers in the list is: {even_sum}\")"
   ]
  },
  {
   "cell_type": "code",
   "execution_count": 22,
   "id": "24c65353",
   "metadata": {},
   "outputs": [
    {
     "name": "stdout",
     "output_type": "stream",
     "text": [
      "please enter your number: 10\n"
     ]
    },
    {
     "data": {
      "text/plain": [
       "'[1, 2, 5, 10]'"
      ]
     },
     "execution_count": 22,
     "metadata": {},
     "output_type": "execute_result"
    }
   ],
   "source": [
    "# Find all divisors of a given positive integer\n",
    "Number=int(input('please enter your number: '))\n",
    "\n",
    "divisors=[i for i in range(1,Number+1) if Number%i==0]\n",
    "print(divisors)"
   ]
  },
  {
   "cell_type": "code",
   "execution_count": 39,
   "id": "5cff06ba",
   "metadata": {},
   "outputs": [
    {
     "name": "stdout",
     "output_type": "stream",
     "text": [
      "The largest word in the string is: hello\n"
     ]
    }
   ],
   "source": [
    "# Find the largest word in a string\n",
    "\n",
    "phrase = \"hello how are you\".split()\n",
    "largest_word = max(phrase, key=len)\n",
    "print(f\"The largest word in the string is: {largest_word}\")"
   ]
  },
  {
   "cell_type": "code",
   "execution_count": 40,
   "id": "a34dbe20",
   "metadata": {},
   "outputs": [
    {
     "name": "stdout",
     "output_type": "stream",
     "text": [
      "{111: 2, 'hello': 2, 222: 1}\n"
     ]
    }
   ],
   "source": [
    "#Count the frequency of each element in a list\n",
    "lst = [111,'hello', 222, 'hello', 111]\n",
    "\n",
    "dic = {i:lst.count(i) for i in lst}\n",
    "print(dic)"
   ]
  }
 ],
 "metadata": {
  "kernelspec": {
   "display_name": "Python 3 (ipykernel)",
   "language": "python",
   "name": "python3"
  },
  "language_info": {
   "codemirror_mode": {
    "name": "ipython",
    "version": 3
   },
   "file_extension": ".py",
   "mimetype": "text/x-python",
   "name": "python",
   "nbconvert_exporter": "python",
   "pygments_lexer": "ipython3",
   "version": "3.11.1"
  }
 },
 "nbformat": 4,
 "nbformat_minor": 5
}
