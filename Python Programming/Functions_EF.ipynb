{
 "cells": [
  {
   "cell_type": "code",
   "execution_count": 13,
   "id": "80353cea",
   "metadata": {},
   "outputs": [
    {
     "name": "stdout",
     "output_type": "stream",
     "text": [
      "Please write your string: hEllo\n",
      "3\n"
     ]
    }
   ],
   "source": [
    "#Count the number of non-vowel characters in a string\n",
    "\n",
    "def vowel(string):\n",
    "    vowels = \"aeiouAEIOU\"\n",
    "    return sum([1 for char in string if char not in vowels])\n",
    "\n",
    "string=input('Please write your string: ')\n",
    "print(vowel(string))"
   ]
  },
  {
   "cell_type": "code",
   "execution_count": 15,
   "id": "96a51cc8",
   "metadata": {},
   "outputs": [
    {
     "name": "stdout",
     "output_type": "stream",
     "text": [
      "how many numbers do you want to enter:3\n",
      "Please enter your number.2\n",
      "Please enter your number.3\n",
      "Please enter your number.4\n",
      "24\n"
     ]
    }
   ],
   "source": [
    "#Multiply the List Elements\n",
    "\n",
    "def product(numbers):\n",
    "    result=1\n",
    "    for i in numbers:\n",
    "        result=result*i\n",
    "    return result\n",
    "\n",
    "number=[]\n",
    "i =int(input('how many numbers do you want to enter:'))\n",
    "for x in range(i):\n",
    "    number.append(int(input('Please enter your number.')))\n",
    "    \n",
    "print(product(number))"
   ]
  },
  {
   "cell_type": "code",
   "execution_count": 18,
   "id": "7a350043",
   "metadata": {},
   "outputs": [
    {
     "name": "stdout",
     "output_type": "stream",
     "text": [
      "Please enter your phrase: abg\n",
      "False\n"
     ]
    }
   ],
   "source": [
    "#Check if a String is Palindrome\n",
    "\n",
    "def palindrome(string):\n",
    "    return string == string[::-1]\n",
    "\n",
    "st=input('Please enter your phrase: ')\n",
    "print(palindrome(st))"
   ]
  },
  {
   "cell_type": "code",
   "execution_count": 20,
   "id": "36f930d5",
   "metadata": {},
   "outputs": [
    {
     "name": "stdout",
     "output_type": "stream",
     "text": [
      "Please enter your number: 1234\n",
      "4\n"
     ]
    }
   ],
   "source": [
    "#Count the Unique Digits in an Integer\n",
    "\n",
    "def unique_digits(number):\n",
    "    return len(set(str(number)))\n",
    "\n",
    "num=input('Please enter your number: ')\n",
    "print(unique_digits(num))"
   ]
  },
  {
   "cell_type": "code",
   "execution_count": 51,
   "id": "e64a3d94",
   "metadata": {},
   "outputs": [
    {
     "name": "stdout",
     "output_type": "stream",
     "text": [
      "Please enter your number: 4\n",
      "False\n"
     ]
    }
   ],
   "source": [
    "#Check prime numbers\n",
    "\n",
    "def prime(number):\n",
    "    PrimeNum=[2,3,5,7,11]\n",
    "    for i in PrimeNum:\n",
    "        if number%i == 0 and number!= i:\n",
    "            return 'False'\n",
    "    return 'True'\n",
    "\n",
    "num=int(input('Please enter your number: '))\n",
    "print(prime(num))"
   ]
  },
  {
   "cell_type": "code",
   "execution_count": 52,
   "id": "bc05e30f",
   "metadata": {},
   "outputs": [
    {
     "name": "stdout",
     "output_type": "stream",
     "text": [
      "Please insert your phrase: hello-baby-girl\n",
      "baby-girl-hello\n"
     ]
    }
   ],
   "source": [
    "#Sort Hyphened-Seperated Words alphabetically\n",
    "\n",
    "def alSort(phrase):\n",
    "    words = phrase.split('-')\n",
    "    words.sort()\n",
    "    return '-'.join(words)\n",
    "\n",
    "phr=input('Please insert your phrase: ')\n",
    "print(alSort(phr))"
   ]
  },
  {
   "cell_type": "code",
   "execution_count": 53,
   "id": "ca4b76b5",
   "metadata": {},
   "outputs": [
    {
     "name": "stdout",
     "output_type": "stream",
     "text": [
      "Please enter your phrase: hellohello\n",
      "{'h': 2, 'e': 2, 'l': 4, 'o': 2}\n"
     ]
    }
   ],
   "source": [
    "#Count the Characters in a string\n",
    "\n",
    "def count(word):\n",
    "    freq = {char:word.count(char) for char in word}\n",
    "    return freq\n",
    "\n",
    "phr=input('Please enter your phrase: ')\n",
    "print(count(phr))"
   ]
  },
  {
   "cell_type": "code",
   "execution_count": 54,
   "id": "8bca036e",
   "metadata": {},
   "outputs": [
    {
     "name": "stdout",
     "output_type": "stream",
     "text": [
      "Please insert your number: 5\n",
      "5\n"
     ]
    }
   ],
   "source": [
    "#Fibonacci Function\n",
    "\n",
    "def fibonacci(number):\n",
    "    if number <= 0:\n",
    "        return 0\n",
    "    elif number <= 1:\n",
    "        return number\n",
    "    else:\n",
    "        return fibonacci(number-1) + fibonacci(number-2)\n",
    "\n",
    "\n",
    "num=int(input('Please insert your number: '))\n",
    "print(fibonacci(num))"
   ]
  }
 ],
 "metadata": {
  "kernelspec": {
   "display_name": "Python 3 (ipykernel)",
   "language": "python",
   "name": "python3"
  },
  "language_info": {
   "codemirror_mode": {
    "name": "ipython",
    "version": 3
   },
   "file_extension": ".py",
   "mimetype": "text/x-python",
   "name": "python",
   "nbconvert_exporter": "python",
   "pygments_lexer": "ipython3",
   "version": "3.11.1"
  }
 },
 "nbformat": 4,
 "nbformat_minor": 5
}
