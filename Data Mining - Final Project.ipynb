{
 "cells": [
  {
   "cell_type": "markdown",
   "metadata": {
    "id": "ZbBDkm35-ynT"
   },
   "source": [
    "# Introduction\n",
    "\n",
    "In this project, I ventured into the realm of book recommendation systems using an extensive Kaggle dataset. This dataset offers a diverse collection of user-book interactions ripe for exploration. I aimed to craft an advanced recommendation system by harnessing user ratings, book details, and interactions. By combining data mining techniques and content-based methods, my goal was to create a robust system delivering tailored book suggestions, providing insights into user preferences and offering practical enhancements to the literary experience."
   ]
  },
  {
   "cell_type": "markdown",
   "metadata": {
    "id": "0GWuxzI1BV5-"
   },
   "source": [
    "# Data Collection\n",
    "\n",
    "The dataset was sourced from Kaggle.com and is referenced in the project's conclusion under the \"References\" section for access."
   ]
  },
  {
   "cell_type": "markdown",
   "metadata": {
    "id": "qTEvqAKZBaQY"
   },
   "source": [
    "Connecting colab to Drive File"
   ]
  },
  {
   "cell_type": "code",
   "execution_count": null,
   "metadata": {
    "id": "B1JbaqCNaBN-"
   },
   "outputs": [],
   "source": [
    "from google.colab import drive\n",
    "drive.mount('/content/drive/')"
   ]
  },
  {
   "cell_type": "code",
   "execution_count": 1,
   "metadata": {
    "id": "mYEeINbNapIp"
   },
   "outputs": [],
   "source": [
    "import pandas as pd\n",
    "import seaborn as sns\n",
    "import matplotlib.pyplot as plt\n",
    "import numpy as np\n",
    "\n",
    "from sklearn.metrics.pairwise import cosine_similarity\n",
    "from sklearn.feature_extraction.text import TfidfVectorizer\n",
    "from sklearn.metrics import precision_recall_fscore_support"
   ]
  },
  {
   "cell_type": "markdown",
   "metadata": {
    "id": "IFlzlg4mCamp"
   },
   "source": [
    "Reading the datasets"
   ]
  },
  {
   "cell_type": "code",
   "execution_count": null,
   "metadata": {
    "id": "bO9yTI_galr0"
   },
   "outputs": [],
   "source": [
    "book = pd.read_csv('/content/drive/MyDrive/DM Proj/Books.csv')\n",
    "ratings = pd.read_csv('/content/drive/MyDrive/Ratings.csv')\n",
    "users = pd.read_csv('/content/drive/MyDrive/Users.csv')"
   ]
  },
  {
   "cell_type": "markdown",
   "metadata": {
    "id": "1txS_1alCmB5"
   },
   "source": [
    "Merging the datasets and saving them in a seperate csv file"
   ]
  },
  {
   "cell_type": "code",
   "execution_count": null,
   "metadata": {
    "id": "ecJ6FmBWa7ky"
   },
   "outputs": [],
   "source": [
    "users_rating = ratings.merge(users, left_on = 'User-ID', right_on = 'User-ID')\n",
    "book_dataset = book.merge(users_rating, left_on = 'ISBN', right_on = 'ISBN')\n",
    "book_dataset.reset_index(drop=True, inplace = True)\n",
    "\n",
    "book_dataset.to_csv('/content/drive/MyDrive/DM Proj/book_dataset.csv')"
   ]
  },
  {
   "cell_type": "code",
   "execution_count": 2,
   "metadata": {
    "colab": {
     "base_uri": "https://localhost:8080/"
    },
    "id": "WbpREPGAmpf5",
    "outputId": "c3a35e71-5696-4501-8263-5e9eea0dece3"
   },
   "outputs": [
    {
     "name": "stderr",
     "output_type": "stream",
     "text": [
      "<ipython-input-2-66865ee044d6>:1: DtypeWarning: Columns (4) have mixed types. Specify dtype option on import or set low_memory=False.\n",
      "  book = pd.read_csv('/content/drive/MyDrive/DM Proj/book_dataset.csv')\n"
     ]
    }
   ],
   "source": [
    "book = pd.read_csv('/content/drive/MyDrive/DM Proj/book_dataset.csv')"
   ]
  },
  {
   "cell_type": "markdown",
   "metadata": {
    "id": "VAcvbYihrsYm"
   },
   "source": [
    "# Data Exploration"
   ]
  },
  {
   "cell_type": "markdown",
   "metadata": {
    "id": "SvDz5eT4DCa3"
   },
   "source": [
    "Conducting an analysis of data types and assessing the dataset's size.\n",
    "\n",
    "Subsequently, scrutinizing for instances of missing values and duplicate entries within the dataset."
   ]
  },
  {
   "cell_type": "code",
   "execution_count": 3,
   "metadata": {
    "colab": {
     "base_uri": "https://localhost:8080/"
    },
    "id": "GXnEZBxrrEDC",
    "outputId": "be12cf53-85dd-425b-f381-7485ec8caab9"
   },
   "outputs": [
    {
     "name": "stdout",
     "output_type": "stream",
     "text": [
      "Unnamed: 0               int64\n",
      "ISBN                    object\n",
      "Book-Title              object\n",
      "Book-Author             object\n",
      "Year-Of-Publication     object\n",
      "Publisher               object\n",
      "Image-URL-S             object\n",
      "Image-URL-M             object\n",
      "Image-URL-L             object\n",
      "User-ID                  int64\n",
      "Book-Rating              int64\n",
      "Location                object\n",
      "Age                    float64\n",
      "dtype: object\n",
      "(1031136, 13)\n"
     ]
    }
   ],
   "source": [
    "print(book.dtypes)\n",
    "print(book.shape)"
   ]
  },
  {
   "cell_type": "code",
   "execution_count": 4,
   "metadata": {
    "colab": {
     "base_uri": "https://localhost:8080/"
    },
    "id": "qpiiAQO1dvOV",
    "outputId": "8c81ba82-94f8-4197-ac92-71c46ce5260a"
   },
   "outputs": [
    {
     "name": "stdout",
     "output_type": "stream",
     "text": [
      "Number of null values: Unnamed: 0                  0\n",
      "ISBN                        0\n",
      "Book-Title                  0\n",
      "Book-Author                 1\n",
      "Year-Of-Publication         0\n",
      "Publisher                   2\n",
      "Image-URL-S                 0\n",
      "Image-URL-M                 0\n",
      "Image-URL-L                 4\n",
      "User-ID                     0\n",
      "Book-Rating                 0\n",
      "Location                    0\n",
      "Age                    277835\n",
      "dtype: int64\n",
      "(1031136, 13)\n"
     ]
    }
   ],
   "source": [
    "null = book.isnull().sum()\n",
    "print(\"Number of null values:\", null)\n",
    "print(book.shape)"
   ]
  },
  {
   "cell_type": "code",
   "execution_count": 5,
   "metadata": {
    "colab": {
     "base_uri": "https://localhost:8080/"
    },
    "id": "53IiGEhweV5p",
    "outputId": "4cf3aa85-ef13-4dc4-b8fe-bf888650e0ff"
   },
   "outputs": [
    {
     "name": "stdout",
     "output_type": "stream",
     "text": [
      "'Unnamed: 0': 0\n",
      "'ISBN': 760985\n",
      "'Book-Title': 790065\n",
      "'Book-Author': 929547\n",
      "'Year-Of-Publication': 1030934\n",
      "'Publisher': 1014406\n",
      "'Image-URL-S': 761294\n",
      "'Image-URL-M': 761294\n",
      "'Image-URL-L': 761296\n",
      "'User-ID': 939030\n",
      "'Book-Rating': 1031125\n",
      "'Location': 1008656\n",
      "'Age': 1030994\n"
     ]
    }
   ],
   "source": [
    "for column in book.columns:\n",
    "    num_duplicates = book.duplicated(subset=column).sum()\n",
    "    print(f\"'{column}': {num_duplicates}\")"
   ]
  },
  {
   "cell_type": "markdown",
   "metadata": {
    "id": "V2thZeX2D5OX"
   },
   "source": [
    "Isolating numerical columns from the dataset and transforming the DataFrame into a long-form structure suitable for FacetGrid visualization. Subsequently, individual histograms for each numerical column are plotted within the FacetGrid.\n",
    "\n",
    "The visual representations illustrate considerable bias and imbalance within the distributions of both Age and Rating. Notably, the Age distribution portrays outliers prominently skewed towards the lower end of the scale."
   ]
  },
  {
   "cell_type": "code",
   "execution_count": 6,
   "metadata": {
    "colab": {
     "base_uri": "https://localhost:8080/",
     "height": 307
    },
    "id": "k3ttyWPm3_2g",
    "outputId": "cb41a073-9c4d-4c8b-d910-2b3551d30daf"
   },
   "outputs": [
    {
     "data": {
      "image/png": "[encoded data removed]",
      "text/plain": [
       "<Figure size 1200x300 with 2 Axes>"
      ]
     },
     "metadata": {},
     "output_type": "display_data"
    }
   ],
   "source": [
    "numerical_columns = book[['Age', 'Book-Rating']]\n",
    "\n",
    "melted = pd.melt(numerical_columns)\n",
    "g = sns.FacetGrid(melted, col=\"variable\", col_wrap=4, sharex=False, sharey=False)\n",
    "g.map(plt.hist, \"value\")\n",
    "\n",
    "g.set_titles(\"{col_name}\")\n",
    "plt.show()"
   ]
  },
  {
   "cell_type": "markdown",
   "metadata": {
    "id": "5fVIgNnK9PPr"
   },
   "source": [
    "The User IDs exhibit a significant bias, with approximately 90% of the entries within this column being duplicates. This observation suggests a scenario where a limited number of individuals contribute to the majority of the dataset, indicating a skewed distribution in user engagement or activity."
   ]
  },
  {
   "cell_type": "code",
   "execution_count": 7,
   "metadata": {
    "colab": {
     "base_uri": "https://localhost:8080/"
    },
    "id": "Aj4tElvySTYr",
    "outputId": "c060d5b9-8610-4839-ba8d-66c5098ce5be"
   },
   "outputs": [
    {
     "name": "stdout",
     "output_type": "stream",
     "text": [
      "11676     11144\n",
      "198711     6456\n",
      "153662     5814\n",
      "98391      5779\n",
      "35859      5646\n",
      "          ...  \n",
      "51911         1\n",
      "151772        1\n",
      "158802        1\n",
      "243672        1\n",
      "259920        1\n",
      "Name: User-ID, Length: 92106, dtype: int64\n"
     ]
    },
    {
     "data": {
      "text/plain": [
       "92106"
      ]
     },
     "execution_count": 7,
     "metadata": {},
     "output_type": "execute_result"
    }
   ],
   "source": [
    "val_count = book['User-ID'].value_counts()\n",
    "print(val_count)\n",
    "\n",
    "book['User-ID'].nunique()"
   ]
  },
  {
   "cell_type": "markdown",
   "metadata": {
    "id": "mYBBYYEUHsyo"
   },
   "source": [
    "In this project, ages falling below 10 years old and surpassing 90 years old are classified as invalid.\n",
    "\n",
    "Given the dataset's scale, the occurrences of invalid ages are not deemed statistically significant."
   ]
  },
  {
   "cell_type": "code",
   "execution_count": 8,
   "metadata": {
    "colab": {
     "base_uri": "https://localhost:8080/"
    },
    "id": "N6qmJARYzP2d",
    "outputId": "bc1d8239-5cf8-4ef2-91f9-12e8f6a3d383"
   },
   "outputs": [
    {
     "name": "stdout",
     "output_type": "stream",
     "text": [
      "7898\n"
     ]
    }
   ],
   "source": [
    "invalid_age = book[(book['Age'] < 10) | (book['Age'] > 90)]['Age'].count()\n",
    "print(invalid_age)"
   ]
  },
  {
   "cell_type": "markdown",
   "metadata": {
    "id": "vSVZ1kSsxlo8"
   },
   "source": [
    "# Data Preprocessing"
   ]
  },
  {
   "cell_type": "markdown",
   "metadata": {
    "id": "16LtH1u4JBp7"
   },
   "source": [
    "Due to the dataset's substantial size, which exceeded the handling capacity of standard laptops, a strategic decision was made to streamline its content. This involved the deliberate removal of rows containing missing values, outliers, and other forms of data noise. This meticulous preprocessing approach was undertaken to ensure a cleaner and more manageable dataset, conducive to effective analysis and modeling processes within the limitations of available computational resources."
   ]
  },
  {
   "cell_type": "code",
   "execution_count": 9,
   "metadata": {
    "id": "CIq3vkU8ox2d"
   },
   "outputs": [],
   "source": [
    "book = book.dropna()"
   ]
  },
  {
   "cell_type": "markdown",
   "metadata": {
    "id": "zavV59yExsCt"
   },
   "source": [
    "**ISBN Column**\n",
    "\n",
    "- Validate the length of the ISBN and record the results in a new column.\n",
    "- Identify ISBN entries that deviate from the standard 10 or 13 digits and conduct a count for each discrepancy.\n",
    "- Perform whitespace, special character, hyphens and spaces removal within the ISBN entries.\n",
    "\n",
    "The retention of duplicate ISBN values stems from the variance in ratings attributed to distinct user IDs for identical ISBNs."
   ]
  },
  {
   "cell_type": "code",
   "execution_count": 10,
   "metadata": {
    "colab": {
     "base_uri": "https://localhost:8080/"
    },
    "id": "lhrbko5MvRxy",
    "outputId": "a66ce99d-6795-4beb-c971-d5218c1d1324"
   },
   "outputs": [
    {
     "name": "stdout",
     "output_type": "stream",
     "text": [
      "Number of invalid ISBNs: 0\n"
     ]
    }
   ],
   "source": [
    "book['ISBN_Length'] = book['ISBN'].apply(lambda x: len(str(x)))\n",
    "\n",
    "invalid_isbn_count = len(book[~book['ISBN_Length'].isin([10, 13])])\n",
    "print(\"Number of invalid ISBNs:\", invalid_isbn_count)\n",
    "\n",
    "book['ISBN'] = book['ISBN'].str.replace(r'[^0-9Xx]|[-\\s]', '', regex=True)"
   ]
  },
  {
   "cell_type": "markdown",
   "metadata": {
    "id": "EyYoAGVU47ds"
   },
   "source": [
    "**Book Title Column**\n",
    "\n",
    "Eliminating leading and trailing whitespace, removing special characters as well as converting the initial letter to lowercase."
   ]
  },
  {
   "cell_type": "code",
   "execution_count": 11,
   "metadata": {
    "id": "bEzgoGWu5u8o"
   },
   "outputs": [],
   "source": [
    "book['Book-Title'] = book['Book-Title'].str.strip()\n",
    "book['Book-Title'] = book['Book-Title'].str.replace('[^a-zA-Z0-9\\s]', '', regex=True)\n",
    "book['Book-Title'] = book['Book-Title'].str.lower()"
   ]
  },
  {
   "cell_type": "markdown",
   "metadata": {
    "id": "7pDF_7MqpDCs"
   },
   "source": [
    "**Book Author column**\n",
    "\n",
    "Eliminating leading and trailing whitespace, excluding special characters, handling non-string values, and converting the initial letter to lowercase."
   ]
  },
  {
   "cell_type": "code",
   "execution_count": 12,
   "metadata": {
    "id": "ITkwWwP58zxJ"
   },
   "outputs": [],
   "source": [
    "book['Book-Author'] = book['Book-Author'].str.strip()\n",
    "book['Book-Author'] = book['Book-Author'].str.replace('[^a-zA-Z\\s]', '', regex=True)\n",
    "book['Book-Author'] = book['Book-Author'].str.lower()\n",
    "book['Book-Author'].fillna(\"Unknown\", inplace=True)"
   ]
  },
  {
   "cell_type": "markdown",
   "metadata": {
    "id": "JDCGB0Kp-aE9"
   },
   "source": [
    "**Year of Publication column**\n",
    "\n",
    "- Filtering rows wherein the 'Year-Of-Publication' is listed as '0'.\n",
    "- Identification and presentation of erroneous year values.\n",
    "- Retaining rows featuring a valid 4-digit format within the 'Year-Of-Publication' column.\n",
    "- Transformation of the 'Year-Of-Publication' into integer type.\n",
    "- Exclusion of years falling below 1900 or surpassing 2022.\n",
    "- Validation check for NaN occurrences within the 'Year-Of-Publication' column."
   ]
  },
  {
   "cell_type": "code",
   "execution_count": 13,
   "metadata": {
    "id": "2UVR80b4G4Mf"
   },
   "outputs": [],
   "source": [
    "book = book[book['Year-Of-Publication'] != \"0\"]"
   ]
  },
  {
   "cell_type": "code",
   "execution_count": 15,
   "metadata": {
    "colab": {
     "base_uri": "https://localhost:8080/"
    },
    "id": "-C1x539OFLnW",
    "outputId": "ca41aa32-d5e9-4e9e-8ef7-77e97238587b"
   },
   "outputs": [
    {
     "name": "stdout",
     "output_type": "stream",
     "text": [
      "Invalid years:  []\n"
     ]
    }
   ],
   "source": [
    "invalid_year_values = book[book['Year-Of-Publication'].astype(str).str.len() != 4]['Year-Of-Publication'].tolist()\n",
    "print('Invalid years: ', invalid_year_values)\n",
    "book = book[book['Year-Of-Publication'].astype(str).str.len() == 4]"
   ]
  },
  {
   "cell_type": "code",
   "execution_count": 16,
   "metadata": {
    "colab": {
     "base_uri": "https://localhost:8080/"
    },
    "id": "mHf9GSZp_Z_F",
    "outputId": "7267963b-36b8-4e70-ceba-51beafd0a576"
   },
   "outputs": [
    {
     "name": "stdout",
     "output_type": "stream",
     "text": [
      "0\n"
     ]
    }
   ],
   "source": [
    "book['Year-Of-Publication'] = book['Year-Of-Publication'].astype(int)\n",
    "book = book[(book['Year-Of-Publication'] >= 1900) & (book['Year-Of-Publication'] <= 2022)]\n",
    "print(book['Year-Of-Publication'].isna().sum())"
   ]
  },
  {
   "cell_type": "code",
   "execution_count": 17,
   "metadata": {
    "colab": {
     "base_uri": "https://localhost:8080/",
     "height": 599
    },
    "id": "HzP2sOnsOVEP",
    "outputId": "a2735d30-7bcc-4c28-e2f6-239f8c141aa2"
   },
   "outputs": [
    {
     "data": {
      "image/png": "[encoded data removed]",
      "text/plain": [
       "<Figure size 1000x700 with 1 Axes>"
      ]
     },
     "metadata": {},
     "output_type": "display_data"
    }
   ],
   "source": [
    "fig = plt.figure(figsize = (10, 7))\n",
    "year = book['Year-Of-Publication']\n",
    "plt.boxplot(year)\n",
    "plt.show()"
   ]
  },
  {
   "cell_type": "markdown",
   "metadata": {
    "id": "a-pWSnU6NZ9R"
   },
   "source": [
    "**Publisher Column**\n",
    "\n",
    "The process involves the removal of leading and trailing whitespace, elimination of special characters, conversion of the initial letter to lowercase, and appropriate handling of non-string values."
   ]
  },
  {
   "cell_type": "code",
   "execution_count": 18,
   "metadata": {
    "id": "PYfrjQCZNb4t"
   },
   "outputs": [],
   "source": [
    "book['Publisher'] = book['Publisher'].str.strip()\n",
    "book['Publisher'] = book['Publisher'].str.replace('[^a-zA-Z\\s]', '', regex=True)\n",
    "book['Publisher'] = book['Publisher'].str.lower()\n",
    "book['Publisher'].fillna(\"Unknown\", inplace=True)\n",
    "book = book.drop(book[book['Publisher'] == \"Unknown\"].index)"
   ]
  },
  {
   "cell_type": "markdown",
   "metadata": {
    "id": "r2_w65MZ1GiF"
   },
   "source": [
    "**Book Rating Column**\n",
    "\n",
    "Due to ambiguity surrounding the interpretation of a 0 value within the rating column—whether it signifies a deliberate rating score or serves as a default placeholder for unrated entries—and considering the substantial bias towards this value within the dataset, a decision was made to eliminate rows where the rating value is zero."
   ]
  },
  {
   "cell_type": "code",
   "execution_count": 19,
   "metadata": {
    "id": "OS9ogDoz1FvD"
   },
   "outputs": [],
   "source": [
    "book = book.drop(book[book['Book-Rating'] == 0].index)"
   ]
  },
  {
   "cell_type": "markdown",
   "metadata": {
    "id": "ebrWefkv9knJ"
   },
   "source": [
    "**Location Column**\n",
    "\n",
    "Excluding city and province to streamline the process and minimize unnecessary complexities."
   ]
  },
  {
   "cell_type": "code",
   "execution_count": 20,
   "metadata": {
    "id": "6s8azSUqrwBE"
   },
   "outputs": [],
   "source": [
    "book['Location'] = book['Location'].apply(lambda x:x.split(',')[-1])"
   ]
  },
  {
   "cell_type": "markdown",
   "metadata": {
    "id": "doTU3r2D48IG"
   },
   "source": [
    "**Age Column**\n",
    "\n",
    "Filtering out age values that are invalid."
   ]
  },
  {
   "cell_type": "code",
   "execution_count": 21,
   "metadata": {
    "id": "egzQGPkNvuAS"
   },
   "outputs": [],
   "source": [
    "book = book.drop(book[(book['Age'] < 10) | (book['Age'] > 90)].index)"
   ]
  },
  {
   "cell_type": "markdown",
   "metadata": {
    "id": "n3qEzLUYLxpL"
   },
   "source": [
    "**Image-URL Column**\n",
    "\n",
    "The removal of \"Image-URL-S\" and \"Image-URL-L\" columns has been initiated due to their deemed redundancy and lack of necessity within the dataset."
   ]
  },
  {
   "cell_type": "code",
   "execution_count": 22,
   "metadata": {
    "id": "j8u56460yhm1"
   },
   "outputs": [],
   "source": [
    "book = book.drop(['Image-URL-S', 'Image-URL-L'], axis=1)"
   ]
  },
  {
   "cell_type": "markdown",
   "metadata": {
    "id": "kO7TcPYWNBeO"
   },
   "source": [
    "**Mean Rating Column**\n",
    "\n",
    "Calculating the mean rating scores corresponding to each ISBN."
   ]
  },
  {
   "cell_type": "code",
   "execution_count": 23,
   "metadata": {
    "id": "jRbvOn0sqQ2m"
   },
   "outputs": [],
   "source": [
    "book['Mean_Rating'] = book.groupby('ISBN')['Book-Rating'].transform('mean')"
   ]
  },
  {
   "cell_type": "markdown",
   "metadata": {
    "id": "YyaEemHJN2Py"
   },
   "source": [
    "Storing the refined dataset within a distinct DataFrame and subsequently saving it as a CSV file."
   ]
  },
  {
   "cell_type": "code",
   "execution_count": null,
   "metadata": {
    "id": "Gcpay7zJyypn"
   },
   "outputs": [],
   "source": [
    "book.to_csv('/content/drive/MyDrive/DM Proj/clean_book.csv')"
   ]
  },
  {
   "cell_type": "code",
   "execution_count": 24,
   "metadata": {
    "id": "I4CDUBB_zPX1"
   },
   "outputs": [],
   "source": [
    "clean_book = pd.read_csv('/content/drive/MyDrive/DM Proj/clean_book.csv')"
   ]
  },
  {
   "cell_type": "markdown",
   "metadata": {
    "id": "nAjlqOouOBfi"
   },
   "source": [
    "# Recommendation Model"
   ]
  },
  {
   "cell_type": "code",
   "execution_count": 25,
   "metadata": {
    "id": "8aTs5LtY1CnW"
   },
   "outputs": [],
   "source": [
    "sampled_data = clean_book.sample(n=5000, random_state=42)"
   ]
  },
  {
   "cell_type": "code",
   "execution_count": 26,
   "metadata": {
    "colab": {
     "base_uri": "https://localhost:8080/",
     "height": 895
    },
    "id": "IoahQEDDR3Rr",
    "outputId": "a0461aac-144d-4160-beac-9eeca7fda37c"
   },
   "outputs": [
    {
     "data": {
      "text/html": [
       "\n",
       "  <div id=\"df-5f2f21c0-48e0-4523-987c-01522c70c7b9\" class=\"colab-df-container\">\n",
       "    <div>\n",
       "<style scoped>\n",
       "    .dataframe tbody tr th:only-of-type {\n",
       "        vertical-align: middle;\n",
       "    }\n",
       "\n",
       "    .dataframe tbody tr th {\n",
       "        vertical-align: top;\n",
       "    }\n",
       "\n",
       "    .dataframe thead th {\n",
       "        text-align: right;\n",
       "    }\n",
       "</style>\n",
       "<table border=\"1\" class=\"dataframe\">\n",
       "  <thead>\n",
       "    <tr style=\"text-align: right;\">\n",
       "      <th></th>\n",
       "      <th>Unnamed: 0.1</th>\n",
       "      <th>Unnamed: 0</th>\n",
       "      <th>ISBN</th>\n",
       "      <th>Book-Title</th>\n",
       "      <th>Book-Author</th>\n",
       "      <th>Year-Of-Publication</th>\n",
       "      <th>Publisher</th>\n",
       "      <th>Image-URL-M</th>\n",
       "      <th>User-ID</th>\n",
       "      <th>Book-Rating</th>\n",
       "      <th>Location</th>\n",
       "      <th>Age</th>\n",
       "      <th>ISBN_Length</th>\n",
       "      <th>Mean_Rating</th>\n",
       "    </tr>\n",
       "  </thead>\n",
       "  <tbody>\n",
       "    <tr>\n",
       "      <th>151465</th>\n",
       "      <td>589443</td>\n",
       "      <td>589443</td>\n",
       "      <td>3442448867</td>\n",
       "      <td>raumschiff titanic</td>\n",
       "      <td>douglas adams</td>\n",
       "      <td>2001</td>\n",
       "      <td>goldmann</td>\n",
       "      <td>http://images.amazon.com/images/P/3442448867.0...</td>\n",
       "      <td>137766</td>\n",
       "      <td>3</td>\n",
       "      <td>germany</td>\n",
       "      <td>40.0</td>\n",
       "      <td>10</td>\n",
       "      <td>6.750000</td>\n",
       "    </tr>\n",
       "    <tr>\n",
       "      <th>2321</th>\n",
       "      <td>9119</td>\n",
       "      <td>9119</td>\n",
       "      <td>0786868716</td>\n",
       "      <td>the five people you meet in heaven</td>\n",
       "      <td>mitch albom</td>\n",
       "      <td>2003</td>\n",
       "      <td>hyperion</td>\n",
       "      <td>http://images.amazon.com/images/P/0786868716.0...</td>\n",
       "      <td>175832</td>\n",
       "      <td>10</td>\n",
       "      <td>usa</td>\n",
       "      <td>48.0</td>\n",
       "      <td>10</td>\n",
       "      <td>8.074257</td>\n",
       "    </tr>\n",
       "    <tr>\n",
       "      <th>255361</th>\n",
       "      <td>996582</td>\n",
       "      <td>996582</td>\n",
       "      <td>0345330137</td>\n",
       "      <td>double star</td>\n",
       "      <td>robert a heinlein</td>\n",
       "      <td>1986</td>\n",
       "      <td>del rey books</td>\n",
       "      <td>http://images.amazon.com/images/P/0345330137.0...</td>\n",
       "      <td>171118</td>\n",
       "      <td>8</td>\n",
       "      <td>canada</td>\n",
       "      <td>47.0</td>\n",
       "      <td>10</td>\n",
       "      <td>8.000000</td>\n",
       "    </tr>\n",
       "    <tr>\n",
       "      <th>217987</th>\n",
       "      <td>850590</td>\n",
       "      <td>850590</td>\n",
       "      <td>0952614715</td>\n",
       "      <td>and the truth shall set you free</td>\n",
       "      <td>david icke</td>\n",
       "      <td>1997</td>\n",
       "      <td>bridge of love publications</td>\n",
       "      <td>http://images.amazon.com/images/P/0952614715.0...</td>\n",
       "      <td>119663</td>\n",
       "      <td>7</td>\n",
       "      <td>usa</td>\n",
       "      <td>38.0</td>\n",
       "      <td>10</td>\n",
       "      <td>7.000000</td>\n",
       "    </tr>\n",
       "    <tr>\n",
       "      <th>69723</th>\n",
       "      <td>256561</td>\n",
       "      <td>256561</td>\n",
       "      <td>0679879242</td>\n",
       "      <td>the golden compass his dark materials book 1</td>\n",
       "      <td>philip pullman</td>\n",
       "      <td>1996</td>\n",
       "      <td>knopf books for young readers</td>\n",
       "      <td>http://images.amazon.com/images/P/0679879242.0...</td>\n",
       "      <td>270263</td>\n",
       "      <td>10</td>\n",
       "      <td>canada</td>\n",
       "      <td>62.0</td>\n",
       "      <td>10</td>\n",
       "      <td>8.750000</td>\n",
       "    </tr>\n",
       "    <tr>\n",
       "      <th>...</th>\n",
       "      <td>...</td>\n",
       "      <td>...</td>\n",
       "      <td>...</td>\n",
       "      <td>...</td>\n",
       "      <td>...</td>\n",
       "      <td>...</td>\n",
       "      <td>...</td>\n",
       "      <td>...</td>\n",
       "      <td>...</td>\n",
       "      <td>...</td>\n",
       "      <td>...</td>\n",
       "      <td>...</td>\n",
       "      <td>...</td>\n",
       "      <td>...</td>\n",
       "    </tr>\n",
       "    <tr>\n",
       "      <th>45444</th>\n",
       "      <td>164536</td>\n",
       "      <td>164536</td>\n",
       "      <td>0515119784</td>\n",
       "      <td>range of motion</td>\n",
       "      <td>elizabeth berg</td>\n",
       "      <td>1996</td>\n",
       "      <td>jove books</td>\n",
       "      <td>http://images.amazon.com/images/P/0515119784.0...</td>\n",
       "      <td>194600</td>\n",
       "      <td>8</td>\n",
       "      <td>canada</td>\n",
       "      <td>51.0</td>\n",
       "      <td>10</td>\n",
       "      <td>7.684211</td>\n",
       "    </tr>\n",
       "    <tr>\n",
       "      <th>143673</th>\n",
       "      <td>555612</td>\n",
       "      <td>555612</td>\n",
       "      <td>0803257414</td>\n",
       "      <td>on the border with crook</td>\n",
       "      <td>john bourke</td>\n",
       "      <td>1971</td>\n",
       "      <td>univ of nebraska pr</td>\n",
       "      <td>http://images.amazon.com/images/P/0803257414.0...</td>\n",
       "      <td>25601</td>\n",
       "      <td>8</td>\n",
       "      <td>usa</td>\n",
       "      <td>41.0</td>\n",
       "      <td>10</td>\n",
       "      <td>8.000000</td>\n",
       "    </tr>\n",
       "    <tr>\n",
       "      <th>701</th>\n",
       "      <td>3482</td>\n",
       "      <td>3482</td>\n",
       "      <td>0345417623</td>\n",
       "      <td>timeline</td>\n",
       "      <td>michael crichton</td>\n",
       "      <td>2000</td>\n",
       "      <td>ballantine books</td>\n",
       "      <td>http://images.amazon.com/images/P/0345417623.0...</td>\n",
       "      <td>1848</td>\n",
       "      <td>8</td>\n",
       "      <td>usa</td>\n",
       "      <td>22.0</td>\n",
       "      <td>10</td>\n",
       "      <td>7.783784</td>\n",
       "    </tr>\n",
       "    <tr>\n",
       "      <th>224413</th>\n",
       "      <td>874987</td>\n",
       "      <td>874987</td>\n",
       "      <td>0671570331</td>\n",
       "      <td>killers of man</td>\n",
       "      <td>ralph w cotton</td>\n",
       "      <td>1997</td>\n",
       "      <td>pocket</td>\n",
       "      <td>http://images.amazon.com/images/P/0671570331.0...</td>\n",
       "      <td>137968</td>\n",
       "      <td>5</td>\n",
       "      <td>usa</td>\n",
       "      <td>73.0</td>\n",
       "      <td>10</td>\n",
       "      <td>5.000000</td>\n",
       "    </tr>\n",
       "    <tr>\n",
       "      <th>198717</th>\n",
       "      <td>784159</td>\n",
       "      <td>784159</td>\n",
       "      <td>055356532X</td>\n",
       "      <td>mortal memory</td>\n",
       "      <td>thomas h cook</td>\n",
       "      <td>1994</td>\n",
       "      <td>bantam books</td>\n",
       "      <td>http://images.amazon.com/images/P/055356532X.0...</td>\n",
       "      <td>150966</td>\n",
       "      <td>8</td>\n",
       "      <td>usa</td>\n",
       "      <td>37.0</td>\n",
       "      <td>10</td>\n",
       "      <td>7.666667</td>\n",
       "    </tr>\n",
       "  </tbody>\n",
       "</table>\n",
       "<p>5000 rows × 14 columns</p>\n",
       "</div>\n",
       "    <div class=\"colab-df-buttons\">\n",
       "\n",
       "  <div class=\"colab-df-container\">\n",
       "    <button class=\"colab-df-convert\" onclick=\"convertToInteractive('df-5f2f21c0-48e0-4523-987c-01522c70c7b9')\"\n",
       "            title=\"Convert this dataframe to an interactive table.\"\n",
       "            style=\"display:none;\">\n",
       "\n",
       "  <svg xmlns=\"http://www.w3.org/2000/svg\" height=\"24px\" viewBox=\"0 -960 960 960\">\n",
       "    <path d=\"M120-120v-720h720v720H120Zm60-500h600v-160H180v160Zm220 220h160v-160H400v160Zm0 220h160v-160H400v160ZM180-400h160v-160H180v160Zm440 0h160v-160H620v160ZM180-180h160v-160H180v160Zm440 0h160v-160H620v160Z\"/>\n",
       "  </svg>\n",
       "    </button>\n",
       "\n",
       "  <style>\n",
       "    .colab-df-container {\n",
       "      display:flex;\n",
       "      gap: 12px;\n",
       "    }\n",
       "\n",
       "    .colab-df-convert {\n",
       "      background-color: #E8F0FE;\n",
       "      border: none;\n",
       "      border-radius: 50%;\n",
       "      cursor: pointer;\n",
       "      display: none;\n",
       "      fill: #1967D2;\n",
       "      height: 32px;\n",
       "      padding: 0 0 0 0;\n",
       "      width: 32px;\n",
       "    }\n",
       "\n",
       "    .colab-df-convert:hover {\n",
       "      background-color: #E2EBFA;\n",
       "      box-shadow: 0px 1px 2px rgba(60, 64, 67, 0.3), 0px 1px 3px 1px rgba(60, 64, 67, 0.15);\n",
       "      fill: #174EA6;\n",
       "    }\n",
       "\n",
       "    .colab-df-buttons div {\n",
       "      margin-bottom: 4px;\n",
       "    }\n",
       "\n",
       "    [theme=dark] .colab-df-convert {\n",
       "      background-color: #3B4455;\n",
       "      fill: #D2E3FC;\n",
       "    }\n",
       "\n",
       "    [theme=dark] .colab-df-convert:hover {\n",
       "      background-color: #434B5C;\n",
       "      box-shadow: 0px 1px 3px 1px rgba(0, 0, 0, 0.15);\n",
       "      filter: drop-shadow(0px 1px 2px rgba(0, 0, 0, 0.3));\n",
       "      fill: #FFFFFF;\n",
       "    }\n",
       "  </style>\n",
       "\n",
       "    <script>\n",
       "      const buttonEl =\n",
       "        document.querySelector('#df-5f2f21c0-48e0-4523-987c-01522c70c7b9 button.colab-df-convert');\n",
       "      buttonEl.style.display =\n",
       "        google.colab.kernel.accessAllowed ? 'block' : 'none';\n",
       "\n",
       "      async function convertToInteractive(key) {\n",
       "        const element = document.querySelector('#df-5f2f21c0-48e0-4523-987c-01522c70c7b9');\n",
       "        const dataTable =\n",
       "          await google.colab.kernel.invokeFunction('convertToInteractive',\n",
       "                                                    [key], {});\n",
       "        if (!dataTable) return;\n",
       "\n",
       "        const docLinkHtml = 'Like what you see? Visit the ' +\n",
       "          '<a target=\"_blank\" href=https://colab.research.google.com/notebooks/data_table.ipynb>data table notebook</a>'\n",
       "          + ' to learn more about interactive tables.';\n",
       "        element.innerHTML = '';\n",
       "        dataTable['output_type'] = 'display_data';\n",
       "        await google.colab.output.renderOutput(dataTable, element);\n",
       "        const docLink = document.createElement('div');\n",
       "        docLink.innerHTML = docLinkHtml;\n",
       "        element.appendChild(docLink);\n",
       "      }\n",
       "    </script>\n",
       "  </div>\n",
       "\n",
       "\n",
       "<div id=\"df-33dd041c-9c5d-48cc-aaea-6e499ff0ce98\">\n",
       "  <button class=\"colab-df-quickchart\" onclick=\"quickchart('df-33dd041c-9c5d-48cc-aaea-6e499ff0ce98')\"\n",
       "            title=\"Suggest charts\"\n",
       "            style=\"display:none;\">\n",
       "\n",
       "<svg xmlns=\"http://www.w3.org/2000/svg\" height=\"24px\"viewBox=\"0 0 24 24\"\n",
       "     width=\"24px\">\n",
       "    <g>\n",
       "        <path d=\"M19 3H5c-1.1 0-2 .9-2 2v14c0 1.1.9 2 2 2h14c1.1 0 2-.9 2-2V5c0-1.1-.9-2-2-2zM9 17H7v-7h2v7zm4 0h-2V7h2v10zm4 0h-2v-4h2v4z\"/>\n",
       "    </g>\n",
       "</svg>\n",
       "  </button>\n",
       "\n",
       "<style>\n",
       "  .colab-df-quickchart {\n",
       "      --bg-color: #E8F0FE;\n",
       "      --fill-color: #1967D2;\n",
       "      --hover-bg-color: #E2EBFA;\n",
       "      --hover-fill-color: #174EA6;\n",
       "      --disabled-fill-color: #AAA;\n",
       "      --disabled-bg-color: #DDD;\n",
       "  }\n",
       "\n",
       "  [theme=dark] .colab-df-quickchart {\n",
       "      --bg-color: #3B4455;\n",
       "      --fill-color: #D2E3FC;\n",
       "      --hover-bg-color: #434B5C;\n",
       "      --hover-fill-color: #FFFFFF;\n",
       "      --disabled-bg-color: #3B4455;\n",
       "      --disabled-fill-color: #666;\n",
       "  }\n",
       "\n",
       "  .colab-df-quickchart {\n",
       "    background-color: var(--bg-color);\n",
       "    border: none;\n",
       "    border-radius: 50%;\n",
       "    cursor: pointer;\n",
       "    display: none;\n",
       "    fill: var(--fill-color);\n",
       "    height: 32px;\n",
       "    padding: 0;\n",
       "    width: 32px;\n",
       "  }\n",
       "\n",
       "  .colab-df-quickchart:hover {\n",
       "    background-color: var(--hover-bg-color);\n",
       "    box-shadow: 0 1px 2px rgba(60, 64, 67, 0.3), 0 1px 3px 1px rgba(60, 64, 67, 0.15);\n",
       "    fill: var(--button-hover-fill-color);\n",
       "  }\n",
       "\n",
       "  .colab-df-quickchart-complete:disabled,\n",
       "  .colab-df-quickchart-complete:disabled:hover {\n",
       "    background-color: var(--disabled-bg-color);\n",
       "    fill: var(--disabled-fill-color);\n",
       "    box-shadow: none;\n",
       "  }\n",
       "\n",
       "  .colab-df-spinner {\n",
       "    border: 2px solid var(--fill-color);\n",
       "    border-color: transparent;\n",
       "    border-bottom-color: var(--fill-color);\n",
       "    animation:\n",
       "      spin 1s steps(1) infinite;\n",
       "  }\n",
       "\n",
       "  @keyframes spin {\n",
       "    0% {\n",
       "      border-color: transparent;\n",
       "      border-bottom-color: var(--fill-color);\n",
       "      border-left-color: var(--fill-color);\n",
       "    }\n",
       "    20% {\n",
       "      border-color: transparent;\n",
       "      border-left-color: var(--fill-color);\n",
       "      border-top-color: var(--fill-color);\n",
       "    }\n",
       "    30% {\n",
       "      border-color: transparent;\n",
       "      border-left-color: var(--fill-color);\n",
       "      border-top-color: var(--fill-color);\n",
       "      border-right-color: var(--fill-color);\n",
       "    }\n",
       "    40% {\n",
       "      border-color: transparent;\n",
       "      border-right-color: var(--fill-color);\n",
       "      border-top-color: var(--fill-color);\n",
       "    }\n",
       "    60% {\n",
       "      border-color: transparent;\n",
       "      border-right-color: var(--fill-color);\n",
       "    }\n",
       "    80% {\n",
       "      border-color: transparent;\n",
       "      border-right-color: var(--fill-color);\n",
       "      border-bottom-color: var(--fill-color);\n",
       "    }\n",
       "    90% {\n",
       "      border-color: transparent;\n",
       "      border-bottom-color: var(--fill-color);\n",
       "    }\n",
       "  }\n",
       "</style>\n",
       "\n",
       "  <script>\n",
       "    async function quickchart(key) {\n",
       "      const quickchartButtonEl =\n",
       "        document.querySelector('#' + key + ' button');\n",
       "      quickchartButtonEl.disabled = true;  // To prevent multiple clicks.\n",
       "      quickchartButtonEl.classList.add('colab-df-spinner');\n",
       "      try {\n",
       "        const charts = await google.colab.kernel.invokeFunction(\n",
       "            'suggestCharts', [key], {});\n",
       "      } catch (error) {\n",
       "        console.error('Error during call to suggestCharts:', error);\n",
       "      }\n",
       "      quickchartButtonEl.classList.remove('colab-df-spinner');\n",
       "      quickchartButtonEl.classList.add('colab-df-quickchart-complete');\n",
       "    }\n",
       "    (() => {\n",
       "      let quickchartButtonEl =\n",
       "        document.querySelector('#df-33dd041c-9c5d-48cc-aaea-6e499ff0ce98 button');\n",
       "      quickchartButtonEl.style.display =\n",
       "        google.colab.kernel.accessAllowed ? 'block' : 'none';\n",
       "    })();\n",
       "  </script>\n",
       "</div>\n",
       "    </div>\n",
       "  </div>\n"
      ],
      "text/plain": [
       "        Unnamed: 0.1  Unnamed: 0        ISBN  \\\n",
       "151465        589443      589443  3442448867   \n",
       "2321            9119        9119  0786868716   \n",
       "255361        996582      996582  0345330137   \n",
       "217987        850590      850590  0952614715   \n",
       "69723         256561      256561  0679879242   \n",
       "...              ...         ...         ...   \n",
       "45444         164536      164536  0515119784   \n",
       "143673        555612      555612  0803257414   \n",
       "701             3482        3482  0345417623   \n",
       "224413        874987      874987  0671570331   \n",
       "198717        784159      784159  055356532X   \n",
       "\n",
       "                                          Book-Title        Book-Author  \\\n",
       "151465                            raumschiff titanic      douglas adams   \n",
       "2321              the five people you meet in heaven        mitch albom   \n",
       "255361                                   double star  robert a heinlein   \n",
       "217987              and the truth shall set you free         david icke   \n",
       "69723   the golden compass his dark materials book 1     philip pullman   \n",
       "...                                              ...                ...   \n",
       "45444                                range of motion     elizabeth berg   \n",
       "143673                      on the border with crook        john bourke   \n",
       "701                                         timeline   michael crichton   \n",
       "224413                                killers of man     ralph w cotton   \n",
       "198717                                 mortal memory      thomas h cook   \n",
       "\n",
       "        Year-Of-Publication                      Publisher  \\\n",
       "151465                 2001                       goldmann   \n",
       "2321                   2003                       hyperion   \n",
       "255361                 1986                  del rey books   \n",
       "217987                 1997    bridge of love publications   \n",
       "69723                  1996  knopf books for young readers   \n",
       "...                     ...                            ...   \n",
       "45444                  1996                     jove books   \n",
       "143673                 1971            univ of nebraska pr   \n",
       "701                    2000               ballantine books   \n",
       "224413                 1997                         pocket   \n",
       "198717                 1994                   bantam books   \n",
       "\n",
       "                                              Image-URL-M  User-ID  \\\n",
       "151465  http://images.amazon.com/images/P/3442448867.0...   137766   \n",
       "2321    http://images.amazon.com/images/P/0786868716.0...   175832   \n",
       "255361  http://images.amazon.com/images/P/0345330137.0...   171118   \n",
       "217987  http://images.amazon.com/images/P/0952614715.0...   119663   \n",
       "69723   http://images.amazon.com/images/P/0679879242.0...   270263   \n",
       "...                                                   ...      ...   \n",
       "45444   http://images.amazon.com/images/P/0515119784.0...   194600   \n",
       "143673  http://images.amazon.com/images/P/0803257414.0...    25601   \n",
       "701     http://images.amazon.com/images/P/0345417623.0...     1848   \n",
       "224413  http://images.amazon.com/images/P/0671570331.0...   137968   \n",
       "198717  http://images.amazon.com/images/P/055356532X.0...   150966   \n",
       "\n",
       "        Book-Rating  Location   Age  ISBN_Length  Mean_Rating  \n",
       "151465            3   germany  40.0           10     6.750000  \n",
       "2321             10       usa  48.0           10     8.074257  \n",
       "255361            8    canada  47.0           10     8.000000  \n",
       "217987            7       usa  38.0           10     7.000000  \n",
       "69723            10    canada  62.0           10     8.750000  \n",
       "...             ...       ...   ...          ...          ...  \n",
       "45444             8    canada  51.0           10     7.684211  \n",
       "143673            8       usa  41.0           10     8.000000  \n",
       "701               8       usa  22.0           10     7.783784  \n",
       "224413            5       usa  73.0           10     5.000000  \n",
       "198717            8       usa  37.0           10     7.666667  \n",
       "\n",
       "[5000 rows x 14 columns]"
      ]
     },
     "execution_count": 26,
     "metadata": {},
     "output_type": "execute_result"
    }
   ],
   "source": [
    "sampled_data"
   ]
  },
  {
   "cell_type": "markdown",
   "metadata": {
    "id": "7guOA5lOPprO"
   },
   "source": [
    "Establishing a TfidfVectorizer object to transform the Author's names into a Tf-idf representation."
   ]
  },
  {
   "cell_type": "code",
   "execution_count": 27,
   "metadata": {
    "colab": {
     "base_uri": "https://localhost:8080/"
    },
    "id": "y9zCxYUWu-Tb",
    "outputId": "5d07eea6-64b3-4a1b-de45-d2eda9cab82f"
   },
   "outputs": [
    {
     "data": {
      "text/plain": [
       "(5000, 3510)"
      ]
     },
     "execution_count": 27,
     "metadata": {},
     "output_type": "execute_result"
    }
   ],
   "source": [
    "tfidf = TfidfVectorizer()\n",
    "tfidf_matrix = tfidf.fit_transform(sampled_data['Book-Author'])\n",
    "tfidf_matrix.shape"
   ]
  },
  {
   "cell_type": "markdown",
   "metadata": {
    "id": "GgZf70cIQB6A"
   },
   "source": [
    "Compute the cosine similarity matrix based on the authors' names and subsequently generate a DataFrame containing the calculated cosine similarity scores."
   ]
  },
  {
   "cell_type": "code",
   "execution_count": 28,
   "metadata": {
    "id": "qrmX8LYUwh-G"
   },
   "outputs": [],
   "source": [
    "cosine_similarity = cosine_similarity(tfidf_matrix)\n",
    "cosine_df = pd.DataFrame(cosine_similarity, index=sampled_data['Book-Title'], columns=sampled_data['Book-Title'])"
   ]
  },
  {
   "cell_type": "markdown",
   "metadata": {
    "id": "7FrXMiGuRgs5"
   },
   "source": [
    "Prompting the user to specify a book they prefer.\n",
    "Retrieving the index of the specified book within the similarity dataframe.\n",
    "Determine the top 5 most similar books based on the specified book.\n",
    "Present the top 5 most similar books to the user's specified choice."
   ]
  },
  {
   "cell_type": "code",
   "execution_count": 29,
   "metadata": {
    "colab": {
     "base_uri": "https://localhost:8080/"
    },
    "id": "G2SXqiML3Spv",
    "outputId": "d7a92363-2ef9-4367-b017-9964094af5cb"
   },
   "outputs": [
    {
     "name": "stdout",
     "output_type": "stream",
     "text": [
      "Write a book you like: double star\n",
      "Top 5 similar books to double star:\n",
      "Book-Title\n",
      "double star                                      1.000000\n",
      "starship troopers                                1.000000\n",
      "farnhams freehold                                1.000000\n",
      "man who sold moon                                1.000000\n",
      "vinas solamnus dragonlance lost legends vol 1    0.366115\n",
      "Name: double star, dtype: float64\n"
     ]
    }
   ],
   "source": [
    "book_ = input('Write a book you like: ')\n",
    "book_index = cosine_df.index.get_loc(book_)\n",
    "recom = cosine_df.iloc[book_index].sort_values(ascending=False)[1:6]\n",
    "\n",
    "print(f'Top 5 similar books to {book_}:')\n",
    "print(recom)"
   ]
  },
  {
   "cell_type": "markdown",
   "metadata": {
    "id": "_DKkCdHzGEDx"
   },
   "source": [
    "# Evaluation"
   ]
  },
  {
   "cell_type": "markdown",
   "metadata": {
    "id": "LEdIwjmREpNG"
   },
   "source": [
    "Establishing the threshold for delineating similarity as either 1 or 0 and generating ground truth data based on threshold assumptions.\n",
    "\n",
    "In essence, the ground truth data, derived from the cosine similarity results and established with a predefined threshold, forms the basis for evaluating how accurately the recommendation system identifies and recommends similar books."
   ]
  },
  {
   "cell_type": "code",
   "execution_count": 30,
   "metadata": {
    "id": "hQLKML4o8nuJ"
   },
   "outputs": [],
   "source": [
    "threshold = 0.5\n",
    "ground_truth = np.where(cosine_similarity >= threshold, 1, 0)"
   ]
  },
  {
   "cell_type": "markdown",
   "metadata": {
    "id": "SbMOWTpfFtRF"
   },
   "source": [
    "Transforming the cosine similarity matrix into a one-dimensional array to enable comparison. Converting the ground truth matrix into a similar one-dimensional format. Subsequently, computing the evaluation metrics.\n",
    "\n",
    "\n",
    "- Precision value of 1.0 signifies that all the recommended books are relevant to the user's preferences.\n",
    "\n",
    "- Recall value of 1.0 suggests that the system successfully identified and recommended all books relevant to the user.\n",
    "\n",
    "- The F1-score value of 1.0 implies an ideal balance between precision and recall, highlighting the system's accuracy and completeness in recommending relevant books."
   ]
  },
  {
   "cell_type": "code",
   "execution_count": 31,
   "metadata": {
    "colab": {
     "base_uri": "https://localhost:8080/"
    },
    "id": "8xQJesUY-wDe",
    "outputId": "5049e4ba-60da-4dc0-a9a5-1183027458bf"
   },
   "outputs": [
    {
     "name": "stdout",
     "output_type": "stream",
     "text": [
      "Precision: 1.0\n",
      "Recall: 1.0\n",
      "F1-score: 1.0\n"
     ]
    }
   ],
   "source": [
    "cosine_similarity_flat = cosine_similarity.flatten()\n",
    "ground_truth_flat = ground_truth.flatten()\n",
    "\n",
    "predictions = (cosine_similarity_flat >= threshold).astype(int)\n",
    "precision, recall, f1, _ = precision_recall_fscore_support(\n",
    "     ground_truth_flat, predictions, average='binary', zero_division=1\n",
    ")\n",
    "\n",
    "print(\"Precision:\", precision)\n",
    "print(\"Recall:\", recall)\n",
    "print(\"F1-score:\", f1)"
   ]
  },
  {
   "cell_type": "markdown",
   "metadata": {
    "id": "ZNWej3VdGLdZ"
   },
   "source": [
    "# Conclusion\n",
    "\n",
    "The book recommendation system underwent a comprehensive journey, beginning with meticulous data cleaning and culminating in the implementation of a robust content-based filtering mechanism. The process commenced by refining and organizing the dataset, ensuring its integrity and coherence, laying a solid foundation for subsequent analysis. Leveraging content-based filtering, the system adeptly utilized book attributes and characteristics to generate recommendations, employing cosine similarity to quantify the likeness between books. Through the evaluation metrics of precision, recall, and F1-score, the system's performance was rigorously assessed. Impressively, the evaluation results unveiled an exemplary precision, recall, and F1-score of 1.0 each, demonstrating the system's exceptional accuracy in recommending books that align precisely with users' preferences.\n",
    "\n",
    "This journey elucidates the system's evolution from data refinement to sophisticated recommendation generation, highlighting its proficiency in harnessing book attributes to derive insightful recommendations. The exceptional evaluation metrics underscore the system's capability to not only identify relevant books accurately but also to retrieve all pertinent items, showcasing a harmonious balance between precision and recall. As the system continues to evolve, these foundational strides in data refinement, content-based filtering, and rigorous evaluation serve as pillars for further enhancements, promising continued refinement and efficacy in delivering tailored book recommendations to users, setting a robust precedent for future advancements in personalized recommendation systems."
   ]
  },
  {
   "cell_type": "markdown",
   "metadata": {
    "id": "caxl10oDKw-R"
   },
   "source": [
    "# References\n",
    "\n",
    "Arashnic. (n.d.). Book Recommendation Dataset. Kaggle. Retrieved from https://www.kaggle.com/datasets/arashnic/book-recommendation-dataset (Accessed: 16.10.2023)"
   ]
  },
  {
   "attachments": {
    "Screenshot%202023-12-15%20160449.png": {
     "image/png": "[encoded data removed]"
    }
   },
   "cell_type": "markdown",
   "metadata": {},
   "source": [
    "![Screenshot%202023-12-15%20160449.png](attachment:Screenshot%202023-12-15%20160449.png)"
   ]
  }
 ],
 "metadata": {
  "colab": {
   "provenance": []
  },
  "kernelspec": {
   "display_name": "Python 3 (ipykernel)",
   "language": "python",
   "name": "python3"
  },
  "language_info": {
   "codemirror_mode": {
    "name": "ipython",
    "version": 3
   },
   "file_extension": ".py",
   "mimetype": "text/x-python",
   "name": "python",
   "nbconvert_exporter": "python",
   "pygments_lexer": "ipython3",
   "version": "3.11.1"
  }
 },
 "nbformat": 4,
 "nbformat_minor": 1
}
